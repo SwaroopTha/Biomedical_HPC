{
 "cells": [
  {
   "cell_type": "markdown",
   "metadata": {
    "jp-MarkdownHeadingCollapsed": true,
    "tags": []
   },
   "source": [
    "# Linear Regression with TensorFlow\n",
    "--------------------------\n",
    "### Contents\n",
    "- **Background [not graded]**\n",
    "    - Simple linear regression modeling\n",
    "    - TF-Keras APIs\n",
    "        - Models\n",
    "        - Layers\n",
    "        - Optimizers\n",
    "    - Sklearn APIs\n",
    "        - Data splits - train_test_split, Kfold\n",
    "        - Regression metrics - MSE, MAE\n",
    "        - Classification metrics - accuracy, classification_report\n",
    "- **Simple Linear Regression Example - Height Prediction [50 points]**\n",
    "    - Import data and make train/test split [5]\n",
    "    - Creating the model [5]\n",
    "    - Training the model for multiple epochs [10]\n",
    "    - Evaluating the trained model [10]\n",
    "    - Visualizing the model fit [5]\n",
    "    - Repeating the above process with 5-fold cross validation [15]\n",
    "- **Logistic Regression (Classification) Example - Diabetes Prediction [50 points]**\n",
    "    - Import data and make train/test split [5]\n",
    "    - Creating the model [5]\n",
    "    - Training the model for multiple epochs [10]\n",
    "    - Evaluating the trained model [10]\n",
    "    - Plotting the fitted coefficients [5]\n",
    "    - Questions [15]\n",
    "--------------------------"
   ]
  },
  {
   "cell_type": "markdown",
   "metadata": {},
   "source": [
    "# [Section 1] Background - [not graded]"
   ]
  },
  {
   "cell_type": "markdown",
   "metadata": {},
   "source": [
    "### Simple linear regression modeling"
   ]
  },
  {
   "cell_type": "markdown",
   "metadata": {},
   "source": [
    "In a linear regression model, we approximate a __linear__ relationship between input variables and an output variable.\n",
    "\n",
    "![2-variable-equation](./resources/2var_equation.png)\n",
    "\n",
    "In a simple linear regression model, we approximate the linear relationship between input variable __x__ and the out put __y__, in the form of the linear equation y = b_0 + b_1 * x. For example, the gasoline consumption, in gallons, of a Chevy SSR driving on a highway at a steady speed can be modeled by the number of miles driven using this equation.\n",
    "\n",
    "<!-- ![chevrolet_ssr](./resources/Chevrolet-SSR.jpg) -->\n",
    "__number of gallons of gas__ = b_0 + b_1 * __miles traveled__\n",
    "\n",
    "As you can see, there are two __model parameters__ b_0 and b_1 which we will need to figure out the values. In the data-driven approach, the two model parameters are not set manually, but learned from data. To find these parameters, the classic linear regression method calculates the regression line which satisfy the least squares criterion in a deterministic manner, namely finding the parameters that define the line which gives the least overall error on all datapoints. However, we are going to explore an alternative approach which is the backbone of many general machine learning methods: gradient descent.\n",
    "\n",
    "![gradient_descent](./resources/gradient_descent.gif)\n",
    "\n",
    "In gradient descent, we start with random model parameters, then go over all available datapoints one-by-one, and adjust the parameters according to the error from the last iteration.\n",
    "\n",
    "Watch [this video](https://youtu.be/sDv4f4s2SB8) (23:53) to learn about gradient descent."
   ]
  },
  {
   "cell_type": "markdown",
   "metadata": {},
   "source": [
    "### TF-Keras APIs"
   ]
  },
  {
   "cell_type": "markdown",
   "metadata": {},
   "source": [
    "You will need multiple Keras functions to perform this assignment. Read the links below:\n",
    "- `Models` for defining the overall model object\n",
    "    - https://keras.io/api/models/\n",
    "- `Layers` for defining internal components of your model\n",
    "    - https://keras.io/api/layers/\n",
    "- `Optimizers` for defining your Gradient Descent optimization scheme\n",
    "    - https://keras.io/api/optimizers/"
   ]
  },
  {
   "cell_type": "markdown",
   "metadata": {},
   "source": [
    "### Sklearn APIs"
   ]
  },
  {
   "cell_type": "markdown",
   "metadata": {},
   "source": [
    "Similarly, for tasks such as splitting the dataset and computing traditional model performance metrics, you will need to use sklearn functions:\n",
    "- `train_test_split` and `KFold` for creating data splits\n",
    "    - https://scikit-learn.org/stable/modules/generated/sklearn.model_selection.train_test_split.html\n",
    "    - https://scikit-learn.org/stable/modules/generated/sklearn.model_selection.KFold.html\n",
    "- `mean_absolute_error` or ``mean_squared_error`` for computing regression error metrics:\n",
    "    - https://scikit-learn.org/stable/modules/generated/sklearn.metrics.mean_absolute_error.html\n",
    "    - https://scikit-learn.org/stable/modules/generated/sklearn.metrics.mean_squared_error.html\n",
    "- `accuracy` or `classification_report` for computing classification performance metrics\n",
    "    - https://scikit-learn.org/stable/modules/generated/sklearn.metrics.accuracy_score.html\n",
    "    - https://scikit-learn.org/stable/modules/generated/sklearn.metrics.classification_report.html"
   ]
  },
  {
   "cell_type": "markdown",
   "metadata": {},
   "source": [
    "Let's import all the APIs we need for this MP in one place. **Before proceeding with the MP, familiarize yourself with the documentation of these functions.**"
   ]
  },
  {
   "cell_type": "code",
   "execution_count": 1,
   "metadata": {
    "id": "viQjp6CTYPF_"
   },
   "outputs": [],
   "source": [
    "import matplotlib.pyplot as plt\n",
    "import numpy as np\n",
    "import pandas as pd\n",
    "\n",
    "import seaborn as sns\n",
    "\n",
    "from keras.models import Sequential\n",
    "\n",
    "from keras.layers import Dense\n",
    "from tensorflow.keras.optimizers import Adam\n",
    "\n",
    "from sklearn.model_selection import train_test_split, KFold\n",
    "from sklearn.metrics import mean_absolute_error, mean_squared_error\n",
    "from sklearn.metrics import accuracy_score, classification_report"
   ]
  },
  {
   "cell_type": "markdown",
   "metadata": {},
   "source": [
    "---------------------------------\n",
    "# [Section 2] Simple Linear Regression Example - Height Prediction [50 points]"
   ]
  },
  {
   "cell_type": "markdown",
   "metadata": {},
   "source": [
    "Let's predict a person's weight based on their height! More or less, the weight and height of a person conforms to a linear relationship. Explore this [dataset on kaggle](https://www.kaggle.com/sonalisingh1411/linear-regression-using-weight-height), it has already been placed in the `resources` folder. Pay attention to the unique data fields and the size of the dataset."
   ]
  },
  {
   "cell_type": "markdown",
   "metadata": {},
   "source": [
    "### Import data and make train/test split [5]"
   ]
  },
  {
   "cell_type": "markdown",
   "metadata": {},
   "source": [
    "First, import the data from the CSV file into a pandas dataframe in the cell below. Read about how to extract information from [`pandas.Dataframe` reference](https://pandas.pydata.org/pandas-docs/stable/reference/api/pandas.DataFrame.html)"
   ]
  },
  {
   "cell_type": "code",
   "execution_count": 2,
   "metadata": {},
   "outputs": [],
   "source": [
    "HEIGHT_WEIGHT_DATA_PATH = \"./resources/weight-height.csv\"\n",
    "height_weight = pd.read_csv(HEIGHT_WEIGHT_DATA_PATH)"
   ]
  },
  {
   "cell_type": "code",
   "execution_count": 3,
   "metadata": {
    "colab": {
     "base_uri": "https://localhost:8080/"
    },
    "id": "3vMtbtWjQDNF",
    "outputId": "eb0d0abc-be7c-4351-cf46-bb522e7ad79b"
   },
   "outputs": [
    {
     "name": "stdout",
     "output_type": "stream",
     "text": [
      "Dimensions of the data (e.g. how many rows, columns)\n",
      "=========================\n",
      "Rows: 10000, Columns: 3\n",
      "\n",
      "Data field names\n",
      "=========================\n",
      "Index(['Gender', 'Height', 'Weight'], dtype='object')\n",
      "\n",
      "First few lines of data\n",
      "=========================\n",
      "  Gender     Height      Weight\n",
      "0   Male  73.847017  241.893563\n",
      "1   Male  68.781904  162.310473\n",
      "2   Male  74.110105  212.740856\n",
      "3   Male  71.730978  220.042470\n",
      "4   Male  69.881796  206.349801\n",
      "\n"
     ]
    }
   ],
   "source": [
    "print(\"Dimensions of the data (e.g. how many rows, columns)\")\n",
    "print(\"=========================\")\n",
    "print(f\"Rows: {height_weight.shape[0]}, Columns: {height_weight.shape[1]}\")\n",
    "print()\n",
    "\n",
    "print(\"Data field names\")\n",
    "print(\"=========================\")\n",
    "print(height_weight.columns)\n",
    "print()\n",
    "\n",
    "print(\"First few lines of data\")\n",
    "print(\"=========================\")\n",
    "print(height_weight.head())\n",
    "print()"
   ]
  },
  {
   "cell_type": "markdown",
   "metadata": {},
   "source": [
    "Next, we need to prepare the dataset by separating the input feature (X) and the output variable (Y).\n",
    "<!-- The model reads the input, or feature labels, and makes a prediction on the output. You shoul do this by making two copies of the dataset, one containing only input labels, while the other one only output ground truth. -->\n",
    "<!-- Hint: use pandas.Dataframe.pop() to remove columns. -->"
   ]
  },
  {
   "cell_type": "code",
   "execution_count": 4,
   "metadata": {
    "colab": {
     "base_uri": "https://localhost:8080/"
    },
    "id": "iSuDquKDQzyL",
    "outputId": "ce6e1acb-319f-4de7-fb9b-c0c56a1c4947"
   },
   "outputs": [],
   "source": [
    "Y = height_weight['Weight']\n",
    "X = height_weight['Height']"
   ]
  },
  {
   "cell_type": "markdown",
   "metadata": {},
   "source": [
    "Before training our model, we need to split the data into the `training` set and the `testing` set. Learn about `train`, `validation`, and `test` sets in [this video](https://youtu.be/Zi-0rlM4RDs)(6:57). In our case, Keras automatically makes a `validation` set from the `training` set during fitting, so we don't have to explicitly make a `validation` set."
   ]
  },
  {
   "cell_type": "markdown",
   "metadata": {},
   "source": [
    "Create a training set and a testing set at a 4:1 train-test ratio using the sklearn API. Print out the dimensions of your training set and testing set."
   ]
  },
  {
   "cell_type": "code",
   "execution_count": 5,
   "metadata": {
    "colab": {
     "base_uri": "https://localhost:8080/"
    },
    "id": "_wtZBYiLRC2p",
    "outputId": "e0d3c634-8ec5-4b23-dc20-da17a4843be3"
   },
   "outputs": [
    {
     "name": "stdout",
     "output_type": "stream",
     "text": [
      "(8000,) (2000,) (8000,) (2000,)\n"
     ]
    }
   ],
   "source": [
    "X_train, X_test, y_train, y_test = train_test_split(X, Y, test_size=0.2)\n",
    "\n",
    "print(X_train.shape, X_test.shape, y_train.shape, y_test.shape)"
   ]
  },
  {
   "cell_type": "markdown",
   "metadata": {},
   "source": [
    "### Creating the model [5]"
   ]
  },
  {
   "cell_type": "markdown",
   "metadata": {},
   "source": [
    "It turns out that the linear regression model can be represented as a simple neural network consisting of only one dense layer (here, with 8 input features):\n",
    "\n",
    "![neural_network](./resources/linear_regression_dnn_visualization.png)"
   ]
  },
  {
   "cell_type": "markdown",
   "metadata": {},
   "source": [
    "In the following cell, build a keras dense neural network to model a linear regression model. Some part of the code has been provided for you.\n",
    "\n",
    "**Hint: your model should have a single Dense layer with input dimension matching the dimension of your input features. The number of nodes should match the number of outputs.**\n",
    "\n",
    "Keras model definition involves three steps:\n",
    "- Defining the model architecture\n",
    "- Setting up the optimizer\n",
    "- Choosing the appropriate loss function"
   ]
  },
  {
   "cell_type": "code",
   "execution_count": 6,
   "metadata": {
    "colab": {
     "base_uri": "https://localhost:8080/"
    },
    "id": "OqObmMzDRGER",
    "outputId": "d8acac69-7116-482d-8a86-adee139c535d"
   },
   "outputs": [
    {
     "name": "stdout",
     "output_type": "stream",
     "text": [
      "Model: \"sequential\"\n",
      "_________________________________________________________________\n",
      " Layer (type)                Output Shape              Param #   \n",
      "=================================================================\n",
      " dense (Dense)               (None, 1)                 2         \n",
      "                                                                 \n",
      "=================================================================\n",
      "Total params: 2\n",
      "Trainable params: 2\n",
      "Non-trainable params: 0\n",
      "_________________________________________________________________\n"
     ]
    },
    {
     "name": "stderr",
     "output_type": "stream",
     "text": [
      "2022-12-02 12:06:59.152868: I tensorflow/core/common_runtime/gpu/gpu_device.cc:1525] Created device /job:localhost/replica:0/task:0/device:GPU:0 with 13873 MB memory:  -> device: 0, name: Tesla V100-SXM2-16GB, pci bus id: 0035:04:00.0, compute capability: 7.0\n"
     ]
    }
   ],
   "source": [
    "# Step 1 - create Keras sequential model equivalent to a linear regression\n",
    "model = Sequential()\n",
    "model.add(Dense(1, input_dim=1))\n",
    "\n",
    "# Step 2 - Setup the gradient descent algorithm using the Adam optimizer at https://keras.io/api/optimizers/adam/\n",
    "learning_rate = 5e-3\n",
    "optimizer = Adam(learning_rate=5e-3)\n",
    "\n",
    "# Step 3 - Compile the model using an appropriate loss function (mse or mae) and the above optimizer\n",
    "model.compile(loss='mean_squared_error',optimizer=optimizer)\n",
    "\n",
    "model.summary()"
   ]
  },
  {
   "cell_type": "markdown",
   "metadata": {},
   "source": [
    "In the model summary, the number of `learnable` parameters should correspond to the `b_0` and `b_1` parameters that we saw in the background section."
   ]
  },
  {
   "cell_type": "markdown",
   "metadata": {},
   "source": [
    "### Training the model for multiple epochs [10]"
   ]
  },
  {
   "cell_type": "markdown",
   "metadata": {},
   "source": [
    "An `epoch` in the context of model training is defined as one pass over the full training dataset. Training the model for multiple `epochs` means that we iterate over the full dataset multiple times to train/fit our model."
   ]
  },
  {
   "cell_type": "markdown",
   "metadata": {},
   "source": [
    "Below, train/fit the model for `50` epochs. Record the training history by receiving the return value from `model.fit`. Plot the training history using `matplotlib`."
   ]
  },
  {
   "cell_type": "code",
   "execution_count": 14,
   "metadata": {
    "colab": {
     "base_uri": "https://localhost:8080/",
     "height": 1000
    },
    "id": "B8bpcW6QRJQ3",
    "outputId": "bc19318a-371d-49ca-d75a-04ffc8f3e196"
   },
   "outputs": [
    {
     "name": "stdout",
     "output_type": "stream",
     "text": [
      "Epoch 1/50\n",
      "250/250 [==============================] - 0s 1ms/step - loss: 543.8819\n",
      "Epoch 2/50\n",
      "250/250 [==============================] - 0s 1ms/step - loss: 542.9136\n",
      "Epoch 3/50\n",
      "250/250 [==============================] - 0s 1ms/step - loss: 542.4085\n",
      "Epoch 4/50\n",
      "250/250 [==============================] - 0s 1ms/step - loss: 540.8982\n",
      "Epoch 5/50\n",
      "250/250 [==============================] - 0s 1ms/step - loss: 540.4784\n",
      "Epoch 6/50\n",
      "250/250 [==============================] - 0s 1ms/step - loss: 540.0216\n",
      "Epoch 7/50\n",
      "250/250 [==============================] - 0s 1ms/step - loss: 538.8817\n",
      "Epoch 8/50\n",
      "250/250 [==============================] - 0s 1ms/step - loss: 538.6586\n",
      "Epoch 9/50\n",
      "250/250 [==============================] - 0s 1ms/step - loss: 537.6920\n",
      "Epoch 10/50\n",
      "250/250 [==============================] - 0s 1ms/step - loss: 537.0493\n",
      "Epoch 11/50\n",
      "250/250 [==============================] - 0s 1ms/step - loss: 536.6100\n",
      "Epoch 12/50\n",
      "250/250 [==============================] - 0s 1ms/step - loss: 536.0928\n",
      "Epoch 13/50\n",
      "250/250 [==============================] - 0s 1ms/step - loss: 534.6595\n",
      "Epoch 14/50\n",
      "250/250 [==============================] - 0s 1ms/step - loss: 534.5533\n",
      "Epoch 15/50\n",
      "250/250 [==============================] - 0s 1ms/step - loss: 533.3868\n",
      "Epoch 16/50\n",
      "250/250 [==============================] - 0s 1ms/step - loss: 532.6016\n",
      "Epoch 17/50\n",
      "250/250 [==============================] - 0s 1ms/step - loss: 531.9532\n",
      "Epoch 18/50\n",
      "250/250 [==============================] - 0s 1ms/step - loss: 531.1662\n",
      "Epoch 19/50\n",
      "250/250 [==============================] - 0s 1ms/step - loss: 530.1841\n",
      "Epoch 20/50\n",
      "250/250 [==============================] - 0s 1ms/step - loss: 529.9913\n",
      "Epoch 21/50\n",
      "250/250 [==============================] - 0s 1ms/step - loss: 529.3688\n",
      "Epoch 22/50\n",
      "250/250 [==============================] - 0s 1ms/step - loss: 528.1660\n",
      "Epoch 23/50\n",
      "250/250 [==============================] - 0s 1ms/step - loss: 527.3838\n",
      "Epoch 24/50\n",
      "250/250 [==============================] - 0s 1ms/step - loss: 527.0842\n",
      "Epoch 25/50\n",
      "250/250 [==============================] - 0s 1ms/step - loss: 525.7045\n",
      "Epoch 26/50\n",
      "250/250 [==============================] - 0s 1ms/step - loss: 524.9264\n",
      "Epoch 27/50\n",
      "250/250 [==============================] - 0s 1ms/step - loss: 525.0611\n",
      "Epoch 28/50\n",
      "250/250 [==============================] - 0s 1ms/step - loss: 523.7394\n",
      "Epoch 29/50\n",
      "250/250 [==============================] - 0s 1ms/step - loss: 523.2954\n",
      "Epoch 30/50\n",
      "250/250 [==============================] - 0s 1ms/step - loss: 522.7662\n",
      "Epoch 31/50\n",
      "250/250 [==============================] - 0s 1ms/step - loss: 521.7950\n",
      "Epoch 32/50\n",
      "250/250 [==============================] - 0s 1ms/step - loss: 521.5116\n",
      "Epoch 33/50\n",
      "250/250 [==============================] - 0s 1ms/step - loss: 520.2434\n",
      "Epoch 34/50\n",
      "250/250 [==============================] - 0s 1ms/step - loss: 519.3644\n",
      "Epoch 35/50\n",
      "250/250 [==============================] - 0s 1ms/step - loss: 519.3195\n",
      "Epoch 36/50\n",
      "250/250 [==============================] - 0s 1ms/step - loss: 518.4077\n",
      "Epoch 37/50\n",
      "250/250 [==============================] - 0s 1ms/step - loss: 517.6932\n",
      "Epoch 38/50\n",
      "250/250 [==============================] - 0s 1ms/step - loss: 517.0341\n",
      "Epoch 39/50\n",
      "250/250 [==============================] - 0s 1ms/step - loss: 516.1266\n",
      "Epoch 40/50\n",
      "250/250 [==============================] - 0s 1ms/step - loss: 515.3972\n",
      "Epoch 41/50\n",
      "250/250 [==============================] - 0s 1ms/step - loss: 514.6259\n",
      "Epoch 42/50\n",
      "250/250 [==============================] - 0s 1ms/step - loss: 513.9843\n",
      "Epoch 43/50\n",
      "250/250 [==============================] - 0s 1ms/step - loss: 512.7225\n",
      "Epoch 44/50\n",
      "250/250 [==============================] - 0s 1ms/step - loss: 512.5135\n",
      "Epoch 45/50\n",
      "250/250 [==============================] - 0s 1ms/step - loss: 511.1946\n",
      "Epoch 46/50\n",
      "250/250 [==============================] - 0s 1ms/step - loss: 510.7418\n",
      "Epoch 47/50\n",
      "250/250 [==============================] - 0s 1ms/step - loss: 510.2863\n",
      "Epoch 48/50\n",
      "250/250 [==============================] - 0s 1ms/step - loss: 509.3786\n",
      "Epoch 49/50\n",
      "250/250 [==============================] - 0s 1ms/step - loss: 508.5865\n",
      "Epoch 50/50\n",
      "250/250 [==============================] - 0s 1ms/step - loss: 507.9801\n"
     ]
    }
   ],
   "source": [
    "history = model.fit(X_train,y_train,epochs=50)"
   ]
  },
  {
   "cell_type": "code",
   "execution_count": 15,
   "metadata": {},
   "outputs": [
    {
     "data": {
      "image/png": "[encoded data removed]",
      "text/plain": [
       "<Figure size 432x288 with 1 Axes>"
      ]
     },
     "metadata": {
      "needs_background": "light"
     },
     "output_type": "display_data"
    }
   ],
   "source": [
    "plt.plot(history.history['loss'])\n",
    "plt.xlabel(\"Epoch number\")\n",
    "plt.ylabel(\"Loss value\")\n",
    "plt.show()"
   ]
  },
  {
   "cell_type": "markdown",
   "metadata": {},
   "source": [
    "### Evaluating the trained model [10]"
   ]
  },
  {
   "cell_type": "markdown",
   "metadata": {},
   "source": [
    "To measure the performance of the model, we can make predictions on the test set, and then compare the model predictions to the known ground truth value. We will apply common performance metrics for regression models as well as ploting the prediction against the ground truth in the next few cells.\n",
    "\n",
    "Now, predict the Weight of the data in the test set in the cell below."
   ]
  },
  {
   "cell_type": "code",
   "execution_count": 16,
   "metadata": {
    "colab": {
     "base_uri": "https://localhost:8080/"
    },
    "id": "22iMkYryRMRJ",
    "outputId": "e76fb128-ee63-47ba-bdd4-ec20103296c1"
   },
   "outputs": [],
   "source": [
    "predictions = model.predict(X_test)"
   ]
  },
  {
   "cell_type": "markdown",
   "metadata": {},
   "source": [
    "Print the `mean_square_error` and the `mean_absolute_error` of the predictions in the cell below."
   ]
  },
  {
   "cell_type": "code",
   "execution_count": 17,
   "metadata": {
    "colab": {
     "base_uri": "https://localhost:8080/"
    },
    "id": "IOCdwLw0ROPN",
    "outputId": "36a4418d-0f12-4994-9df9-5df92c013a97"
   },
   "outputs": [
    {
     "name": "stdout",
     "output_type": "stream",
     "text": [
      "Mean Squared Error: 492.68 (inches)\n",
      "Mean Absolute Error: 18.78 (inches)\n"
     ]
    }
   ],
   "source": [
    "mse = mean_squared_error(predictions,y_test)\n",
    "print(\"Mean Squared Error: {:.2f} (inches)\".format(mse))\n",
    "\n",
    "mae = mean_absolute_error(predictions, y_test)\n",
    "print(\"Mean Absolute Error: {:.2f} (inches)\".format(mae))"
   ]
  },
  {
   "cell_type": "markdown",
   "metadata": {},
   "source": [
    "### Visualizing the model fit [5]"
   ]
  },
  {
   "cell_type": "markdown",
   "metadata": {},
   "source": [
    "Plot the ground truth value (red) and the model predictions (blue) in the cell below. Because the predictions are made by a linear regression model, the predictions should fall on a straight line in the plot."
   ]
  },
  {
   "cell_type": "code",
   "execution_count": 18,
   "metadata": {
    "colab": {
     "base_uri": "https://localhost:8080/",
     "height": 606
    },
    "id": "nZl4oNrAX5_0",
    "outputId": "1b0d8afb-3050-4940-c2de-c69e80093a5a"
   },
   "outputs": [
    {
     "data": {
      "image/png": "[encoded data removed]",
      "text/plain": [
       "<Figure size 432x288 with 1 Axes>"
      ]
     },
     "metadata": {
      "needs_background": "light"
     },
     "output_type": "display_data"
    }
   ],
   "source": [
    "fig = plt.figure()\n",
    "ax1 = fig.add_subplot(111)\n",
    "ax1.scatter(X_test, y_test, c='r',label='actual')\n",
    "ax1.scatter(X_test, predictions, c='b', label='predicted')\n",
    "plt.xlabel('Height')\n",
    "plt.ylabel(\"Weight\")\n",
    "plt.legend(loc='upper left')\n",
    "plt.show()"
   ]
  },
  {
   "cell_type": "markdown",
   "metadata": {},
   "source": [
    "**[Exercise] Based on the above plot, do you think the model has been sufficiently trained within `50` epochs? What happens if you go back and train for an additional `50` epochs?**\n",
    "\n",
    "**Your answer:** \n",
    "\n",
    "- I don't think the model has been sufficiently trained within 50 epochs because the mean squared error is still high; in addition, the predictions don't seem to align with the actual values. After training with an additional 50 epochs the model seems to have decreased loss, but still has a high mean squared error. The exponential decrease in loss doesn't occur again with the additional 50 epochs."
   ]
  },
  {
   "cell_type": "markdown",
   "metadata": {},
   "source": [
    "### Repeating the above process with a 5-fold cross validation [15]\n",
    "\n",
    "So far, we have used only two splits of the data - train and test, and built a single model. However, our results may be biased because of a particular train/test split. It is standard practice when building smaller models to do the data splits several times (also called `folds`) and build one model for each split. This way we get a better estimate (mean and std. deviation) of model performance across multiple splits.\n",
    "\n",
    "**Below, you can implement 5-Fold cross-validation to build these models either using the sklearn `KFold` function or Keras' validation set options in `Model.fit()` function. After training the 5 models, report the mean and standard deviation of model performance.**"
   ]
  },
  {
   "cell_type": "code",
   "execution_count": 40,
   "metadata": {},
   "outputs": [
    {
     "name": "stdout",
     "output_type": "stream",
     "text": [
      "TRAIN: [2000 2001 2002 ... 9997 9998 9999] TEST: [   0    1    2 ... 1997 1998 1999]\n",
      "Epoch 1/50\n",
      "250/250 [==============================] - 1s 2ms/step - loss: 49134.8672 - mape: 141.9012 - val_loss: 46203.6836 - val_mape: 114.2348\n",
      "Epoch 2/50\n",
      "250/250 [==============================] - 0s 2ms/step - loss: 23080.9746 - mape: 95.0622 - val_loss: 22270.1348 - val_mape: 78.8344\n",
      "Epoch 3/50\n",
      "250/250 [==============================] - 0s 2ms/step - loss: 9537.2256 - mape: 58.4886 - val_loss: 9934.7480 - val_mape: 52.0461\n",
      "Epoch 4/50\n",
      "250/250 [==============================] - 0s 2ms/step - loss: 3527.6997 - mape: 31.8947 - val_loss: 4326.0337 - val_mape: 33.5687\n",
      "Epoch 5/50\n",
      "250/250 [==============================] - 0s 2ms/step - loss: 1341.4812 - mape: 17.1348 - val_loss: 2051.2261 - val_mape: 22.2153\n",
      "Epoch 6/50\n",
      "250/250 [==============================] - 0s 2ms/step - loss: 714.4478 - mape: 13.0274 - val_loss: 1207.3254 - val_mape: 16.2734\n",
      "Epoch 7/50\n",
      "250/250 [==============================] - 0s 2ms/step - loss: 577.0461 - mape: 12.9178 - val_loss: 900.6038 - val_mape: 13.6135\n",
      "Epoch 8/50\n",
      "250/250 [==============================] - 0s 2ms/step - loss: 555.8099 - mape: 13.3250 - val_loss: 806.2922 - val_mape: 12.7135\n",
      "Epoch 9/50\n",
      "250/250 [==============================] - 0s 2ms/step - loss: 553.3384 - mape: 13.4323 - val_loss: 773.5358 - val_mape: 12.3896\n",
      "Epoch 10/50\n",
      "250/250 [==============================] - 0s 2ms/step - loss: 553.0451 - mape: 13.5216 - val_loss: 771.8290 - val_mape: 12.3727\n",
      "Epoch 11/50\n",
      "250/250 [==============================] - 0s 2ms/step - loss: 552.9655 - mape: 13.4937 - val_loss: 766.0756 - val_mape: 12.3152\n",
      "Epoch 12/50\n",
      "250/250 [==============================] - 0s 2ms/step - loss: 552.8779 - mape: 13.5088 - val_loss: 752.9581 - val_mape: 12.1834\n",
      "Epoch 13/50\n",
      "250/250 [==============================] - 0s 2ms/step - loss: 552.7677 - mape: 13.5074 - val_loss: 749.6804 - val_mape: 12.1505\n",
      "Epoch 14/50\n",
      "250/250 [==============================] - 0s 2ms/step - loss: 552.7398 - mape: 13.5302 - val_loss: 763.2770 - val_mape: 12.2880\n",
      "Epoch 15/50\n",
      "250/250 [==============================] - 0s 2ms/step - loss: 552.6727 - mape: 13.5273 - val_loss: 763.1276 - val_mape: 12.2868\n",
      "Epoch 16/50\n",
      "250/250 [==============================] - 0s 2ms/step - loss: 552.5846 - mape: 13.5237 - val_loss: 766.3760 - val_mape: 12.3199\n",
      "Epoch 17/50\n",
      "250/250 [==============================] - 0s 2ms/step - loss: 552.3556 - mape: 13.5007 - val_loss: 771.5603 - val_mape: 12.3723\n",
      "Epoch 18/50\n",
      "250/250 [==============================] - 0s 2ms/step - loss: 552.2792 - mape: 13.5107 - val_loss: 780.4278 - val_mape: 12.4614\n",
      "Epoch 19/50\n",
      "250/250 [==============================] - 0s 2ms/step - loss: 552.0699 - mape: 13.5223 - val_loss: 779.2456 - val_mape: 12.4502\n",
      "Epoch 20/50\n",
      "250/250 [==============================] - 0s 2ms/step - loss: 551.9355 - mape: 13.4887 - val_loss: 763.5815 - val_mape: 12.2940\n",
      "Epoch 21/50\n",
      "250/250 [==============================] - 0s 2ms/step - loss: 551.6742 - mape: 13.5029 - val_loss: 781.0607 - val_mape: 12.4697\n",
      "Epoch 22/50\n",
      "250/250 [==============================] - 0s 2ms/step - loss: 551.4030 - mape: 13.5021 - val_loss: 767.4930 - val_mape: 12.3348\n",
      "Epoch 23/50\n",
      "250/250 [==============================] - 0s 2ms/step - loss: 551.3003 - mape: 13.4965 - val_loss: 772.7046 - val_mape: 12.3880\n",
      "Epoch 24/50\n",
      "250/250 [==============================] - 0s 2ms/step - loss: 550.6429 - mape: 13.4644 - val_loss: 719.2373 - val_mape: 11.8461\n",
      "Epoch 25/50\n",
      "250/250 [==============================] - 0s 2ms/step - loss: 550.7114 - mape: 13.4912 - val_loss: 731.1201 - val_mape: 11.9692\n",
      "Epoch 26/50\n",
      "250/250 [==============================] - 0s 2ms/step - loss: 550.2805 - mape: 13.5078 - val_loss: 794.8047 - val_mape: 12.6108\n",
      "Epoch 27/50\n",
      "250/250 [==============================] - 0s 2ms/step - loss: 549.8703 - mape: 13.4736 - val_loss: 757.1473 - val_mape: 12.2362\n",
      "Epoch 28/50\n",
      "250/250 [==============================] - 0s 2ms/step - loss: 549.4457 - mape: 13.4677 - val_loss: 762.2614 - val_mape: 12.2893\n",
      "Epoch 29/50\n",
      "250/250 [==============================] - 0s 2ms/step - loss: 548.8574 - mape: 13.4845 - val_loss: 848.2625 - val_mape: 13.1347\n",
      "Epoch 30/50\n",
      "250/250 [==============================] - 0s 2ms/step - loss: 548.3949 - mape: 13.4315 - val_loss: 705.9041 - val_mape: 11.7162\n",
      "Epoch 31/50\n",
      "250/250 [==============================] - 0s 2ms/step - loss: 548.5462 - mape: 13.4674 - val_loss: 786.9585 - val_mape: 12.5409\n",
      "Epoch 32/50\n",
      "250/250 [==============================] - 0s 2ms/step - loss: 547.5924 - mape: 13.4489 - val_loss: 716.2062 - val_mape: 11.8262\n",
      "Epoch 33/50\n",
      "250/250 [==============================] - 0s 2ms/step - loss: 547.2855 - mape: 13.4589 - val_loss: 802.3721 - val_mape: 12.6967\n",
      "Epoch 34/50\n",
      "250/250 [==============================] - 0s 2ms/step - loss: 545.9964 - mape: 13.4234 - val_loss: 758.4604 - val_mape: 12.2615\n",
      "Epoch 35/50\n",
      "250/250 [==============================] - 0s 2ms/step - loss: 545.5972 - mape: 13.4186 - val_loss: 803.1871 - val_mape: 12.7087\n",
      "Epoch 36/50\n",
      "250/250 [==============================] - 0s 2ms/step - loss: 545.1609 - mape: 13.4324 - val_loss: 748.4865 - val_mape: 12.1644\n",
      "Epoch 37/50\n",
      "250/250 [==============================] - 0s 2ms/step - loss: 544.3812 - mape: 13.4004 - val_loss: 729.3975 - val_mape: 11.9715\n",
      "Epoch 38/50\n",
      "250/250 [==============================] - 0s 2ms/step - loss: 543.2733 - mape: 13.3963 - val_loss: 763.9209 - val_mape: 12.3246\n",
      "Epoch 39/50\n",
      "250/250 [==============================] - 0s 2ms/step - loss: 542.9788 - mape: 13.3827 - val_loss: 744.6750 - val_mape: 12.1319\n",
      "Epoch 40/50\n",
      "250/250 [==============================] - 0s 2ms/step - loss: 541.9373 - mape: 13.3813 - val_loss: 751.7008 - val_mape: 12.2055\n",
      "Epoch 41/50\n",
      "250/250 [==============================] - 0s 2ms/step - loss: 541.2424 - mape: 13.3686 - val_loss: 744.8833 - val_mape: 12.1384\n",
      "Epoch 42/50\n",
      "250/250 [==============================] - 0s 2ms/step - loss: 540.8943 - mape: 13.3571 - val_loss: 762.2028 - val_mape: 12.3159\n",
      "Epoch 43/50\n",
      "250/250 [==============================] - 0s 2ms/step - loss: 540.2604 - mape: 13.3703 - val_loss: 777.0994 - val_mape: 12.4675\n",
      "Epoch 44/50\n",
      "250/250 [==============================] - 0s 2ms/step - loss: 539.3494 - mape: 13.3529 - val_loss: 765.4923 - val_mape: 12.3534\n",
      "Epoch 45/50\n",
      "250/250 [==============================] - 0s 2ms/step - loss: 538.5482 - mape: 13.3277 - val_loss: 723.9205 - val_mape: 11.9321\n",
      "Epoch 46/50\n",
      "250/250 [==============================] - 0s 2ms/step - loss: 537.6641 - mape: 13.3294 - val_loss: 696.5955 - val_mape: 11.6507\n",
      "Epoch 47/50\n",
      "250/250 [==============================] - 0s 2ms/step - loss: 536.5540 - mape: 13.3209 - val_loss: 830.7234 - val_mape: 13.0036\n",
      "Epoch 48/50\n",
      "250/250 [==============================] - 0s 2ms/step - loss: 536.6566 - mape: 13.3004 - val_loss: 722.1351 - val_mape: 11.9205\n",
      "Epoch 49/50\n",
      "250/250 [==============================] - 0s 2ms/step - loss: 535.6080 - mape: 13.2968 - val_loss: 742.5219 - val_mape: 12.1324\n",
      "Epoch 50/50\n",
      "250/250 [==============================] - 0s 2ms/step - loss: 534.6412 - mape: 13.2808 - val_loss: 687.6328 - val_mape: 11.5653\n",
      "MSE:  687.6328269845068\n",
      "MAE:  22.706530865863208\n",
      "18.963129138946535\n",
      "21.91961727314794\n",
      "\n",
      "TRAIN: [   0    1    2 ... 9997 9998 9999] TEST: [2000 2001 2002 ... 3997 3998 3999]\n",
      "Epoch 1/50\n",
      "250/250 [==============================] - 1s 2ms/step - loss: 540.9448 - mape: 13.3477 - val_loss: 750.6011 - val_mape: 12.3795\n",
      "Epoch 2/50\n",
      "250/250 [==============================] - 0s 2ms/step - loss: 539.9341 - mape: 13.3266 - val_loss: 750.6589 - val_mape: 12.3821\n",
      "Epoch 3/50\n",
      "250/250 [==============================] - 0s 2ms/step - loss: 538.7109 - mape: 13.2896 - val_loss: 717.4873 - val_mape: 12.0509\n",
      "Epoch 4/50\n",
      "250/250 [==============================] - 0s 2ms/step - loss: 538.5432 - mape: 13.3100 - val_loss: 745.6266 - val_mape: 12.3358\n",
      "Epoch 5/50\n",
      "250/250 [==============================] - 0s 2ms/step - loss: 537.7795 - mape: 13.2835 - val_loss: 718.1161 - val_mape: 12.0610\n",
      "Epoch 6/50\n",
      "250/250 [==============================] - 1s 2ms/step - loss: 536.9588 - mape: 13.2907 - val_loss: 722.8376 - val_mape: 12.1108\n",
      "Epoch 7/50\n",
      "250/250 [==============================] - 0s 2ms/step - loss: 536.2603 - mape: 13.2642 - val_loss: 716.3082 - val_mape: 12.0463\n",
      "Epoch 8/50\n",
      "250/250 [==============================] - 0s 2ms/step - loss: 535.9832 - mape: 13.2830 - val_loss: 694.5228 - val_mape: 11.8250\n",
      "Epoch 9/50\n",
      "250/250 [==============================] - 0s 2ms/step - loss: 534.6223 - mape: 13.2313 - val_loss: 658.8243 - val_mape: 11.4561\n",
      "Epoch 10/50\n",
      "250/250 [==============================] - 0s 2ms/step - loss: 534.3310 - mape: 13.2745 - val_loss: 729.0438 - val_mape: 12.1808\n",
      "Epoch 11/50\n",
      "250/250 [==============================] - 0s 2ms/step - loss: 533.7280 - mape: 13.2385 - val_loss: 718.7630 - val_mape: 12.0786\n",
      "Epoch 12/50\n",
      "250/250 [==============================] - 0s 2ms/step - loss: 532.3016 - mape: 13.1939 - val_loss: 624.6421 - val_mape: 11.0976\n",
      "Epoch 13/50\n",
      "250/250 [==============================] - 0s 2ms/step - loss: 531.8959 - mape: 13.2561 - val_loss: 705.8850 - val_mape: 11.9508\n",
      "Epoch 14/50\n",
      "250/250 [==============================] - 0s 2ms/step - loss: 530.7027 - mape: 13.2166 - val_loss: 770.4954 - val_mape: 12.6011\n",
      "Epoch 15/50\n",
      "250/250 [==============================] - 0s 2ms/step - loss: 530.6716 - mape: 13.1650 - val_loss: 661.4683 - val_mape: 11.4942\n",
      "Epoch 16/50\n",
      "250/250 [==============================] - 0s 2ms/step - loss: 529.5028 - mape: 13.2163 - val_loss: 761.4757 - val_mape: 12.5157\n",
      "Epoch 17/50\n",
      "250/250 [==============================] - 0s 2ms/step - loss: 529.0598 - mape: 13.1530 - val_loss: 651.2388 - val_mape: 11.3901\n",
      "Epoch 18/50\n",
      "250/250 [==============================] - 0s 2ms/step - loss: 528.2863 - mape: 13.1870 - val_loss: 711.1447 - val_mape: 12.0139\n",
      "Epoch 19/50\n",
      "250/250 [==============================] - 0s 2ms/step - loss: 527.6395 - mape: 13.1424 - val_loss: 689.2477 - val_mape: 11.7903\n",
      "Epoch 20/50\n",
      "250/250 [==============================] - 0s 2ms/step - loss: 527.0757 - mape: 13.1673 - val_loss: 684.7366 - val_mape: 11.7454\n",
      "Epoch 21/50\n",
      "250/250 [==============================] - 0s 2ms/step - loss: 526.2035 - mape: 13.1564 - val_loss: 689.6002 - val_mape: 11.7975\n",
      "Epoch 22/50\n",
      "250/250 [==============================] - 0s 2ms/step - loss: 525.2797 - mape: 13.1261 - val_loss: 705.2440 - val_mape: 11.9607\n",
      "Epoch 23/50\n",
      "250/250 [==============================] - 0s 2ms/step - loss: 524.8298 - mape: 13.1311 - val_loss: 698.5328 - val_mape: 11.8935\n",
      "Epoch 24/50\n",
      "250/250 [==============================] - 0s 2ms/step - loss: 523.8770 - mape: 13.1210 - val_loss: 696.0480 - val_mape: 11.8697\n",
      "Epoch 25/50\n",
      "250/250 [==============================] - 0s 2ms/step - loss: 523.9192 - mape: 13.1130 - val_loss: 647.1631 - val_mape: 11.3606\n",
      "Epoch 26/50\n",
      "250/250 [==============================] - 0s 2ms/step - loss: 522.6857 - mape: 13.1059 - val_loss: 706.6805 - val_mape: 11.9827\n",
      "Epoch 27/50\n",
      "250/250 [==============================] - 0s 2ms/step - loss: 521.9506 - mape: 13.0630 - val_loss: 614.0377 - val_mape: 11.0084\n",
      "Epoch 28/50\n",
      "250/250 [==============================] - 0s 2ms/step - loss: 521.1098 - mape: 13.0795 - val_loss: 635.2826 - val_mape: 11.2392\n",
      "Epoch 29/50\n",
      "250/250 [==============================] - 0s 2ms/step - loss: 520.4278 - mape: 13.0776 - val_loss: 645.9799 - val_mape: 11.3550\n",
      "Epoch 30/50\n",
      "250/250 [==============================] - 0s 2ms/step - loss: 519.7632 - mape: 13.0862 - val_loss: 671.8577 - val_mape: 11.6292\n",
      "Epoch 31/50\n",
      "250/250 [==============================] - 0s 2ms/step - loss: 519.1083 - mape: 13.0515 - val_loss: 659.6443 - val_mape: 11.5029\n",
      "Epoch 32/50\n",
      "250/250 [==============================] - 0s 2ms/step - loss: 518.9497 - mape: 13.0408 - val_loss: 693.6518 - val_mape: 11.8595\n",
      "Epoch 33/50\n",
      "250/250 [==============================] - 0s 2ms/step - loss: 517.8466 - mape: 13.0311 - val_loss: 678.7725 - val_mape: 11.7068\n",
      "Epoch 34/50\n",
      "250/250 [==============================] - 0s 2ms/step - loss: 516.7960 - mape: 13.0360 - val_loss: 671.4276 - val_mape: 11.6320\n",
      "Epoch 35/50\n",
      "250/250 [==============================] - 0s 2ms/step - loss: 515.9728 - mape: 13.0234 - val_loss: 715.3531 - val_mape: 12.0877\n",
      "Epoch 36/50\n",
      "250/250 [==============================] - 1s 2ms/step - loss: 516.0995 - mape: 13.0117 - val_loss: 650.6423 - val_mape: 11.4166\n",
      "Epoch 37/50\n",
      "250/250 [==============================] - 0s 2ms/step - loss: 514.8812 - mape: 12.9862 - val_loss: 636.8781 - val_mape: 11.2717\n",
      "Epoch 38/50\n",
      "250/250 [==============================] - 0s 2ms/step - loss: 514.3416 - mape: 12.9979 - val_loss: 704.0558 - val_mape: 11.9775\n",
      "Epoch 39/50\n",
      "250/250 [==============================] - 0s 2ms/step - loss: 513.4773 - mape: 12.9924 - val_loss: 665.5623 - val_mape: 11.5793\n",
      "Epoch 40/50\n",
      "250/250 [==============================] - 0s 2ms/step - loss: 512.9174 - mape: 12.9708 - val_loss: 656.0377 - val_mape: 11.4807\n",
      "Epoch 41/50\n",
      "250/250 [==============================] - 0s 2ms/step - loss: 511.9108 - mape: 12.9677 - val_loss: 689.8823 - val_mape: 11.8367\n",
      "Epoch 42/50\n",
      "250/250 [==============================] - 0s 2ms/step - loss: 510.9946 - mape: 12.9587 - val_loss: 668.8926 - val_mape: 11.6195\n",
      "Epoch 43/50\n",
      "250/250 [==============================] - 0s 2ms/step - loss: 510.8312 - mape: 12.9509 - val_loss: 700.3903 - val_mape: 11.9487\n",
      "Epoch 44/50\n",
      "250/250 [==============================] - 0s 2ms/step - loss: 510.0402 - mape: 12.9243 - val_loss: 668.3012 - val_mape: 11.6168\n",
      "Epoch 45/50\n",
      "250/250 [==============================] - 0s 2ms/step - loss: 509.0483 - mape: 12.9252 - val_loss: 625.1554 - val_mape: 11.1592\n",
      "Epoch 46/50\n",
      "250/250 [==============================] - 0s 2ms/step - loss: 508.9202 - mape: 12.9302 - val_loss: 652.4008 - val_mape: 11.4527\n",
      "Epoch 47/50\n",
      "250/250 [==============================] - 0s 2ms/step - loss: 508.0990 - mape: 12.9108 - val_loss: 657.2349 - val_mape: 11.5056\n",
      "Epoch 48/50\n",
      "250/250 [==============================] - 0s 2ms/step - loss: 506.8528 - mape: 12.8950 - val_loss: 643.5571 - val_mape: 11.3622\n",
      "Epoch 49/50\n",
      "250/250 [==============================] - 0s 2ms/step - loss: 506.4180 - mape: 12.8914 - val_loss: 680.3665 - val_mape: 11.7521\n",
      "Epoch 50/50\n",
      "250/250 [==============================] - 0s 2ms/step - loss: 505.8771 - mape: 12.8849 - val_loss: 687.9568 - val_mape: 11.8328\n",
      "MSE:  687.9568739663209\n",
      "MAE:  23.056565592554005\n",
      "13.10555519104004\n",
      "0.13231238724311858\n",
      "\n",
      "TRAIN: [   0    1    2 ... 9997 9998 9999] TEST: [4000 4001 4002 ... 5997 5998 5999]\n",
      "Epoch 1/50\n",
      "250/250 [==============================] - 1s 2ms/step - loss: 515.6584 - mape: 12.8765 - val_loss: 514.9250 - val_mape: 13.0250\n",
      "Epoch 2/50\n",
      "250/250 [==============================] - 0s 2ms/step - loss: 514.1204 - mape: 12.9053 - val_loss: 515.7378 - val_mape: 12.7405\n",
      "Epoch 3/50\n",
      "250/250 [==============================] - 0s 2ms/step - loss: 513.7688 - mape: 12.8816 - val_loss: 512.1047 - val_mape: 12.8092\n",
      "Epoch 4/50\n",
      "250/250 [==============================] - 0s 2ms/step - loss: 512.5802 - mape: 12.8720 - val_loss: 510.9556 - val_mape: 12.8944\n",
      "Epoch 5/50\n",
      "250/250 [==============================] - 0s 2ms/step - loss: 512.0395 - mape: 12.8635 - val_loss: 510.1078 - val_mape: 12.8487\n",
      "Epoch 6/50\n",
      "250/250 [==============================] - 0s 2ms/step - loss: 511.3304 - mape: 12.8655 - val_loss: 510.9219 - val_mape: 12.7451\n",
      "Epoch 7/50\n",
      "250/250 [==============================] - 0s 2ms/step - loss: 510.5722 - mape: 12.8441 - val_loss: 508.9429 - val_mape: 12.7898\n",
      "Epoch 8/50\n",
      "250/250 [==============================] - 0s 2ms/step - loss: 509.9033 - mape: 12.8348 - val_loss: 507.9471 - val_mape: 12.8166\n",
      "Epoch 9/50\n",
      "250/250 [==============================] - 0s 2ms/step - loss: 508.8942 - mape: 12.8194 - val_loss: 507.2318 - val_mape: 12.8288\n",
      "Epoch 10/50\n",
      "250/250 [==============================] - 0s 2ms/step - loss: 508.5066 - mape: 12.8259 - val_loss: 508.6862 - val_mape: 12.6915\n",
      "Epoch 11/50\n",
      "250/250 [==============================] - 0s 2ms/step - loss: 507.7849 - mape: 12.7997 - val_loss: 506.2886 - val_mape: 12.8645\n",
      "Epoch 12/50\n",
      "250/250 [==============================] - 0s 2ms/step - loss: 507.1897 - mape: 12.7975 - val_loss: 505.0863 - val_mape: 12.8048\n",
      "Epoch 13/50\n",
      "250/250 [==============================] - 0s 2ms/step - loss: 506.5070 - mape: 12.7936 - val_loss: 504.8823 - val_mape: 12.8480\n",
      "Epoch 14/50\n",
      "250/250 [==============================] - 0s 2ms/step - loss: 505.7679 - mape: 12.7761 - val_loss: 505.5602 - val_mape: 12.9060\n",
      "Epoch 15/50\n",
      "250/250 [==============================] - 0s 2ms/step - loss: 505.1721 - mape: 12.7909 - val_loss: 505.7405 - val_mape: 12.6339\n",
      "Epoch 16/50\n",
      "250/250 [==============================] - 0s 2ms/step - loss: 504.4316 - mape: 12.7567 - val_loss: 502.3387 - val_mape: 12.7813\n",
      "Epoch 17/50\n",
      "250/250 [==============================] - 1s 2ms/step - loss: 503.8963 - mape: 12.7586 - val_loss: 501.5413 - val_mape: 12.7499\n",
      "Epoch 18/50\n",
      "250/250 [==============================] - 1s 3ms/step - loss: 502.3201 - mape: 12.7390 - val_loss: 501.0461 - val_mape: 12.7760\n",
      "Epoch 19/50\n",
      "250/250 [==============================] - 1s 2ms/step - loss: 502.2888 - mape: 12.7401 - val_loss: 500.8091 - val_mape: 12.6577\n",
      "Epoch 20/50\n",
      "250/250 [==============================] - 0s 2ms/step - loss: 501.2848 - mape: 12.7256 - val_loss: 499.6559 - val_mape: 12.6769\n",
      "Epoch 21/50\n",
      "250/250 [==============================] - 0s 2ms/step - loss: 500.3668 - mape: 12.7014 - val_loss: 500.3235 - val_mape: 12.8291\n",
      "Epoch 22/50\n",
      "250/250 [==============================] - 0s 2ms/step - loss: 499.7657 - mape: 12.7146 - val_loss: 498.9247 - val_mape: 12.6230\n",
      "Epoch 23/50\n",
      "250/250 [==============================] - 0s 2ms/step - loss: 499.6828 - mape: 12.6984 - val_loss: 497.5722 - val_mape: 12.6521\n",
      "Epoch 24/50\n",
      "250/250 [==============================] - 0s 2ms/step - loss: 498.5986 - mape: 12.6950 - val_loss: 497.4476 - val_mape: 12.6101\n",
      "Epoch 25/50\n",
      "250/250 [==============================] - 0s 2ms/step - loss: 498.0052 - mape: 12.6694 - val_loss: 496.7010 - val_mape: 12.7502\n",
      "Epoch 26/50\n",
      "250/250 [==============================] - 1s 2ms/step - loss: 497.4349 - mape: 12.6848 - val_loss: 495.5431 - val_mape: 12.6253\n",
      "Epoch 27/50\n",
      "250/250 [==============================] - 0s 2ms/step - loss: 496.9044 - mape: 12.6610 - val_loss: 494.7230 - val_mape: 12.6762\n",
      "Epoch 28/50\n",
      "250/250 [==============================] - 0s 2ms/step - loss: 495.8966 - mape: 12.6576 - val_loss: 494.4542 - val_mape: 12.7088\n",
      "Epoch 29/50\n",
      "250/250 [==============================] - 0s 2ms/step - loss: 495.3130 - mape: 12.6415 - val_loss: 493.3336 - val_mape: 12.6283\n",
      "Epoch 30/50\n",
      "250/250 [==============================] - 0s 2ms/step - loss: 494.6079 - mape: 12.6513 - val_loss: 493.0456 - val_mape: 12.5763\n",
      "Epoch 31/50\n",
      "250/250 [==============================] - 0s 2ms/step - loss: 493.7443 - mape: 12.6090 - val_loss: 494.7563 - val_mape: 12.7859\n",
      "Epoch 32/50\n",
      "250/250 [==============================] - 0s 2ms/step - loss: 493.6093 - mape: 12.6352 - val_loss: 491.4012 - val_mape: 12.6407\n",
      "Epoch 33/50\n",
      "250/250 [==============================] - 0s 2ms/step - loss: 492.4151 - mape: 12.6032 - val_loss: 490.6158 - val_mape: 12.6029\n",
      "Epoch 34/50\n",
      "250/250 [==============================] - 0s 2ms/step - loss: 491.7440 - mape: 12.6103 - val_loss: 492.7682 - val_mape: 12.4659\n",
      "Epoch 35/50\n",
      "250/250 [==============================] - 0s 2ms/step - loss: 491.2675 - mape: 12.5832 - val_loss: 489.3087 - val_mape: 12.6061\n",
      "Epoch 36/50\n",
      "250/250 [==============================] - 0s 2ms/step - loss: 490.4512 - mape: 12.5861 - val_loss: 488.5745 - val_mape: 12.5854\n",
      "Epoch 37/50\n",
      "250/250 [==============================] - 0s 2ms/step - loss: 489.8726 - mape: 12.5763 - val_loss: 488.1445 - val_mape: 12.5239\n",
      "Epoch 38/50\n",
      "250/250 [==============================] - 0s 2ms/step - loss: 488.7372 - mape: 12.5419 - val_loss: 492.0301 - val_mape: 12.7859\n",
      "Epoch 39/50\n",
      "250/250 [==============================] - 0s 2ms/step - loss: 488.6226 - mape: 12.5699 - val_loss: 486.6094 - val_mape: 12.5794\n",
      "Epoch 40/50\n",
      "250/250 [==============================] - 0s 2ms/step - loss: 487.8948 - mape: 12.5481 - val_loss: 486.5478 - val_mape: 12.6210\n",
      "Epoch 41/50\n",
      "250/250 [==============================] - 0s 2ms/step - loss: 486.8742 - mape: 12.5399 - val_loss: 485.6516 - val_mape: 12.5987\n",
      "Epoch 42/50\n",
      "250/250 [==============================] - 0s 2ms/step - loss: 486.2195 - mape: 12.5312 - val_loss: 485.0091 - val_mape: 12.5929\n",
      "Epoch 43/50\n",
      "250/250 [==============================] - 0s 2ms/step - loss: 485.6824 - mape: 12.5190 - val_loss: 483.7365 - val_mape: 12.5204\n",
      "Epoch 44/50\n",
      "250/250 [==============================] - 0s 2ms/step - loss: 485.2535 - mape: 12.5097 - val_loss: 483.1519 - val_mape: 12.5333\n",
      "Epoch 45/50\n",
      "250/250 [==============================] - 0s 2ms/step - loss: 484.4815 - mape: 12.4980 - val_loss: 482.7107 - val_mape: 12.5493\n",
      "Epoch 46/50\n",
      "250/250 [==============================] - 1s 2ms/step - loss: 483.6442 - mape: 12.4992 - val_loss: 482.0007 - val_mape: 12.4380\n",
      "Epoch 47/50\n",
      "250/250 [==============================] - 0s 2ms/step - loss: 482.8644 - mape: 12.4814 - val_loss: 481.0983 - val_mape: 12.5062\n",
      "Epoch 48/50\n",
      "250/250 [==============================] - 0s 2ms/step - loss: 482.4542 - mape: 12.4725 - val_loss: 480.3481 - val_mape: 12.4838\n",
      "Epoch 49/50\n",
      "250/250 [==============================] - 0s 2ms/step - loss: 481.6475 - mape: 12.4653 - val_loss: 479.7066 - val_mape: 12.4813\n",
      "Epoch 50/50\n",
      "250/250 [==============================] - 0s 2ms/step - loss: 481.0975 - mape: 12.4518 - val_loss: 480.3037 - val_mape: 12.5603\n",
      "MSE:  480.3036438669634\n",
      "MAE:  18.546330015267497\n",
      "12.67744472503662\n",
      "0.13069872785787254\n",
      "\n",
      "TRAIN: [   0    1    2 ... 9997 9998 9999] TEST: [6000 6001 6002 ... 7997 7998 7999]\n",
      "Epoch 1/50\n",
      "250/250 [==============================] - 1s 2ms/step - loss: 448.5323 - mape: 11.5289 - val_loss: 728.8594 - val_mape: 19.4437\n",
      "Epoch 2/50\n",
      "250/250 [==============================] - 0s 2ms/step - loss: 448.2043 - mape: 11.5344 - val_loss: 727.2911 - val_mape: 19.4211\n",
      "Epoch 3/50\n",
      "250/250 [==============================] - 0s 2ms/step - loss: 447.5794 - mape: 11.5232 - val_loss: 731.5106 - val_mape: 19.4861\n",
      "Epoch 4/50\n",
      "250/250 [==============================] - 0s 2ms/step - loss: 446.8116 - mape: 11.5104 - val_loss: 711.8255 - val_mape: 19.1882\n",
      "Epoch 5/50\n",
      "250/250 [==============================] - 0s 2ms/step - loss: 446.4584 - mape: 11.5107 - val_loss: 692.0292 - val_mape: 18.8854\n",
      "Epoch 6/50\n",
      "250/250 [==============================] - 0s 2ms/step - loss: 446.2633 - mape: 11.4999 - val_loss: 714.5106 - val_mape: 19.2315\n",
      "Epoch 7/50\n",
      "250/250 [==============================] - 0s 2ms/step - loss: 445.3241 - mape: 11.4943 - val_loss: 620.6664 - val_mape: 17.7515\n",
      "Epoch 8/50\n",
      "250/250 [==============================] - 1s 2ms/step - loss: 444.5861 - mape: 11.4866 - val_loss: 629.7692 - val_mape: 17.9010\n",
      "Epoch 9/50\n",
      "250/250 [==============================] - 0s 2ms/step - loss: 444.1286 - mape: 11.4742 - val_loss: 662.5932 - val_mape: 18.4297\n",
      "Epoch 10/50\n",
      "250/250 [==============================] - 0s 2ms/step - loss: 443.3664 - mape: 11.4669 - val_loss: 713.6365 - val_mape: 19.2227\n",
      "Epoch 11/50\n",
      "250/250 [==============================] - 0s 2ms/step - loss: 442.5579 - mape: 11.4491 - val_loss: 673.4539 - val_mape: 18.6029\n",
      "Epoch 12/50\n",
      "250/250 [==============================] - 0s 2ms/step - loss: 442.1440 - mape: 11.4480 - val_loss: 713.7593 - val_mape: 19.2269\n",
      "Epoch 13/50\n",
      "250/250 [==============================] - 0s 2ms/step - loss: 441.8917 - mape: 11.4519 - val_loss: 680.9406 - val_mape: 18.7221\n",
      "Epoch 14/50\n",
      "250/250 [==============================] - 0s 2ms/step - loss: 441.1842 - mape: 11.4413 - val_loss: 713.4118 - val_mape: 19.2239\n",
      "Epoch 15/50\n",
      "250/250 [==============================] - 0s 2ms/step - loss: 440.2981 - mape: 11.4258 - val_loss: 643.6505 - val_mape: 18.1339\n",
      "Epoch 16/50\n",
      "250/250 [==============================] - 1s 2ms/step - loss: 439.9394 - mape: 11.4219 - val_loss: 689.0434 - val_mape: 18.8512\n",
      "Epoch 17/50\n",
      "250/250 [==============================] - 0s 2ms/step - loss: 439.1418 - mape: 11.4094 - val_loss: 703.2186 - val_mape: 19.0710\n",
      "Epoch 18/50\n",
      "250/250 [==============================] - 0s 2ms/step - loss: 439.0961 - mape: 11.4058 - val_loss: 735.5374 - val_mape: 19.5644\n",
      "Epoch 19/50\n",
      "250/250 [==============================] - 0s 2ms/step - loss: 438.4075 - mape: 11.4059 - val_loss: 686.6293 - val_mape: 18.8170\n",
      "Epoch 20/50\n",
      "250/250 [==============================] - 0s 2ms/step - loss: 437.1907 - mape: 11.3827 - val_loss: 668.3788 - val_mape: 18.5330\n",
      "Epoch 21/50\n",
      "250/250 [==============================] - 0s 2ms/step - loss: 437.1360 - mape: 11.3783 - val_loss: 754.9234 - val_mape: 19.8585\n",
      "Epoch 22/50\n",
      "250/250 [==============================] - 0s 2ms/step - loss: 436.7063 - mape: 11.3793 - val_loss: 710.8582 - val_mape: 19.1940\n",
      "Epoch 23/50\n",
      "250/250 [==============================] - 0s 2ms/step - loss: 436.2834 - mape: 11.3745 - val_loss: 679.2246 - val_mape: 18.7061\n",
      "Epoch 24/50\n",
      "250/250 [==============================] - 0s 2ms/step - loss: 435.2752 - mape: 11.3598 - val_loss: 673.1340 - val_mape: 18.6119\n",
      "Epoch 25/50\n",
      "250/250 [==============================] - 0s 2ms/step - loss: 434.5220 - mape: 11.3482 - val_loss: 670.2971 - val_mape: 18.5684\n",
      "Epoch 26/50\n",
      "250/250 [==============================] - 0s 2ms/step - loss: 434.0416 - mape: 11.3359 - val_loss: 646.9426 - val_mape: 18.1991\n",
      "Epoch 27/50\n",
      "250/250 [==============================] - 0s 2ms/step - loss: 433.6456 - mape: 11.3339 - val_loss: 654.7277 - val_mape: 18.3245\n",
      "Epoch 28/50\n",
      "250/250 [==============================] - 0s 2ms/step - loss: 432.5122 - mape: 11.3200 - val_loss: 659.2067 - val_mape: 18.3966\n",
      "Epoch 29/50\n",
      "250/250 [==============================] - 0s 2ms/step - loss: 432.3699 - mape: 11.3213 - val_loss: 678.3372 - val_mape: 18.6984\n",
      "Epoch 30/50\n",
      "250/250 [==============================] - 0s 2ms/step - loss: 431.3514 - mape: 11.2968 - val_loss: 772.9729 - val_mape: 20.1370\n",
      "Epoch 31/50\n",
      "250/250 [==============================] - 0s 2ms/step - loss: 431.8788 - mape: 11.3210 - val_loss: 665.1430 - val_mape: 18.4935\n",
      "Epoch 32/50\n",
      "250/250 [==============================] - 0s 2ms/step - loss: 430.5664 - mape: 11.3000 - val_loss: 656.3486 - val_mape: 18.3554\n",
      "Epoch 33/50\n",
      "250/250 [==============================] - 0s 2ms/step - loss: 430.0063 - mape: 11.2840 - val_loss: 666.4056 - val_mape: 18.5154\n",
      "Epoch 34/50\n",
      "250/250 [==============================] - 0s 2ms/step - loss: 429.8320 - mape: 11.2833 - val_loss: 674.1989 - val_mape: 18.6387\n",
      "Epoch 35/50\n",
      "250/250 [==============================] - 0s 2ms/step - loss: 428.9288 - mape: 11.2735 - val_loss: 685.1508 - val_mape: 18.8106\n",
      "Epoch 36/50\n",
      "250/250 [==============================] - 1s 2ms/step - loss: 428.7463 - mape: 11.2612 - val_loss: 683.9105 - val_mape: 18.7923\n",
      "Epoch 37/50\n",
      "250/250 [==============================] - 0s 2ms/step - loss: 427.9924 - mape: 11.2637 - val_loss: 641.1351 - val_mape: 18.1173\n",
      "Epoch 38/50\n",
      "250/250 [==============================] - 0s 2ms/step - loss: 427.1298 - mape: 11.2515 - val_loss: 594.1940 - val_mape: 17.3483\n",
      "Epoch 39/50\n",
      "250/250 [==============================] - 0s 2ms/step - loss: 427.1369 - mape: 11.2458 - val_loss: 704.0868 - val_mape: 19.1087\n",
      "Epoch 40/50\n",
      "250/250 [==============================] - 1s 2ms/step - loss: 426.1528 - mape: 11.2361 - val_loss: 699.9891 - val_mape: 19.0466\n",
      "Epoch 41/50\n",
      "250/250 [==============================] - 0s 2ms/step - loss: 425.2649 - mape: 11.2208 - val_loss: 692.2892 - val_mape: 18.9284\n",
      "Epoch 42/50\n",
      "250/250 [==============================] - 0s 2ms/step - loss: 425.4030 - mape: 11.2261 - val_loss: 712.1404 - val_mape: 19.2357\n",
      "Epoch 43/50\n",
      "250/250 [==============================] - 0s 2ms/step - loss: 424.9078 - mape: 11.2174 - val_loss: 693.2338 - val_mape: 18.9453\n",
      "Epoch 44/50\n",
      "250/250 [==============================] - 0s 2ms/step - loss: 424.1352 - mape: 11.2122 - val_loss: 675.7176 - val_mape: 18.6727\n",
      "Epoch 45/50\n",
      "250/250 [==============================] - 0s 2ms/step - loss: 423.6628 - mape: 11.1983 - val_loss: 620.1671 - val_mape: 17.7851\n",
      "Epoch 46/50\n",
      "250/250 [==============================] - 0s 2ms/step - loss: 422.9261 - mape: 11.1907 - val_loss: 643.8594 - val_mape: 18.1702\n",
      "Epoch 47/50\n",
      "250/250 [==============================] - 0s 2ms/step - loss: 422.2177 - mape: 11.1791 - val_loss: 686.1607 - val_mape: 18.8396\n",
      "Epoch 48/50\n",
      "250/250 [==============================] - 0s 2ms/step - loss: 421.8088 - mape: 11.1734 - val_loss: 638.3044 - val_mape: 18.0830\n",
      "Epoch 49/50\n",
      "250/250 [==============================] - 0s 2ms/step - loss: 421.2564 - mape: 11.1724 - val_loss: 615.1233 - val_mape: 17.7065\n",
      "Epoch 50/50\n",
      "250/250 [==============================] - 0s 2ms/step - loss: 420.6213 - mape: 11.1548 - val_loss: 666.4426 - val_mape: 18.5330\n",
      "MSE:  666.44257821175\n",
      "MAE:  22.96878800334369\n",
      "11.34769199371338\n",
      "0.11131062420106892\n",
      "\n",
      "TRAIN: [   0    1    2 ... 7997 7998 7999] TEST: [8000 8001 8002 ... 9997 9998 9999]\n",
      "Epoch 1/50\n",
      "250/250 [==============================] - 1s 2ms/step - loss: 428.7897 - mape: 11.3290 - val_loss: 600.5697 - val_mape: 17.2936\n",
      "Epoch 2/50\n",
      "250/250 [==============================] - 0s 2ms/step - loss: 427.9391 - mape: 11.3204 - val_loss: 607.7270 - val_mape: 17.4138\n",
      "Epoch 3/50\n",
      "250/250 [==============================] - 0s 2ms/step - loss: 427.2996 - mape: 11.3080 - val_loss: 649.7777 - val_mape: 18.1000\n",
      "Epoch 4/50\n",
      "250/250 [==============================] - 0s 2ms/step - loss: 427.4614 - mape: 11.3151 - val_loss: 574.4689 - val_mape: 16.8561\n",
      "Epoch 5/50\n",
      "250/250 [==============================] - 0s 2ms/step - loss: 426.4930 - mape: 11.2979 - val_loss: 586.5631 - val_mape: 17.0629\n",
      "Epoch 6/50\n",
      "250/250 [==============================] - 0s 2ms/step - loss: 425.4417 - mape: 11.2842 - val_loss: 613.3997 - val_mape: 17.5121\n",
      "Epoch 7/50\n",
      "250/250 [==============================] - 0s 2ms/step - loss: 425.3394 - mape: 11.2799 - val_loss: 618.1164 - val_mape: 17.5908\n",
      "Epoch 8/50\n",
      "250/250 [==============================] - 1s 2ms/step - loss: 424.5849 - mape: 11.2747 - val_loss: 626.7843 - val_mape: 17.7339\n",
      "Epoch 9/50\n",
      "250/250 [==============================] - 0s 2ms/step - loss: 423.9082 - mape: 11.2619 - val_loss: 579.2167 - val_mape: 16.9428\n",
      "Epoch 10/50\n",
      "250/250 [==============================] - 1s 2ms/step - loss: 423.6133 - mape: 11.2583 - val_loss: 644.4600 - val_mape: 18.0227\n",
      "Epoch 11/50\n",
      "250/250 [==============================] - 0s 2ms/step - loss: 422.7738 - mape: 11.2442 - val_loss: 606.3413 - val_mape: 17.4011\n",
      "Epoch 12/50\n",
      "250/250 [==============================] - 0s 2ms/step - loss: 422.0948 - mape: 11.2406 - val_loss: 632.8123 - val_mape: 17.8367\n",
      "Epoch 13/50\n",
      "250/250 [==============================] - 0s 2ms/step - loss: 421.7905 - mape: 11.2351 - val_loss: 590.4985 - val_mape: 17.1386\n",
      "Epoch 14/50\n",
      "250/250 [==============================] - 0s 2ms/step - loss: 420.9171 - mape: 11.2213 - val_loss: 631.7628 - val_mape: 17.8220\n",
      "Epoch 15/50\n",
      "250/250 [==============================] - 0s 2ms/step - loss: 420.4896 - mape: 11.2154 - val_loss: 597.2801 - val_mape: 17.2547\n",
      "Epoch 16/50\n",
      "250/250 [==============================] - 0s 2ms/step - loss: 419.7179 - mape: 11.2081 - val_loss: 587.0503 - val_mape: 17.0838\n",
      "Epoch 17/50\n",
      "250/250 [==============================] - 0s 2ms/step - loss: 419.2281 - mape: 11.2016 - val_loss: 603.6090 - val_mape: 17.3626\n",
      "Epoch 18/50\n",
      "250/250 [==============================] - 0s 2ms/step - loss: 418.3646 - mape: 11.1831 - val_loss: 595.1651 - val_mape: 17.2227\n",
      "Epoch 19/50\n",
      "250/250 [==============================] - 0s 2ms/step - loss: 418.0122 - mape: 11.1877 - val_loss: 561.7192 - val_mape: 16.6541\n",
      "Epoch 20/50\n",
      "250/250 [==============================] - 0s 2ms/step - loss: 417.6974 - mape: 11.1762 - val_loss: 599.0860 - val_mape: 17.2905\n",
      "Epoch 21/50\n",
      "250/250 [==============================] - 0s 2ms/step - loss: 417.1776 - mape: 11.1655 - val_loss: 641.0524 - val_mape: 17.9802\n",
      "Epoch 22/50\n",
      "250/250 [==============================] - 0s 2ms/step - loss: 416.2693 - mape: 11.1571 - val_loss: 631.1371 - val_mape: 17.8207\n",
      "Epoch 23/50\n",
      "250/250 [==============================] - 0s 2ms/step - loss: 416.1082 - mape: 11.1589 - val_loss: 593.9445 - val_mape: 17.2077\n",
      "Epoch 24/50\n",
      "250/250 [==============================] - 0s 2ms/step - loss: 415.3941 - mape: 11.1466 - val_loss: 630.5497 - val_mape: 17.8133\n",
      "Epoch 25/50\n",
      "250/250 [==============================] - 0s 2ms/step - loss: 414.8278 - mape: 11.1389 - val_loss: 637.6975 - val_mape: 17.9303\n",
      "Epoch 26/50\n",
      "250/250 [==============================] - 0s 2ms/step - loss: 414.1032 - mape: 11.1254 - val_loss: 643.5271 - val_mape: 18.0254\n",
      "Epoch 27/50\n",
      "250/250 [==============================] - 0s 2ms/step - loss: 413.6223 - mape: 11.1234 - val_loss: 607.6149 - val_mape: 17.4399\n",
      "Epoch 28/50\n",
      "250/250 [==============================] - 0s 2ms/step - loss: 412.9458 - mape: 11.1141 - val_loss: 596.2040 - val_mape: 17.2510\n",
      "Epoch 29/50\n",
      "250/250 [==============================] - 0s 2ms/step - loss: 412.7195 - mape: 11.1104 - val_loss: 603.0093 - val_mape: 17.3656\n",
      "Epoch 30/50\n",
      "250/250 [==============================] - 0s 2ms/step - loss: 412.1337 - mape: 11.1094 - val_loss: 604.6911 - val_mape: 17.3947\n",
      "Epoch 31/50\n",
      "250/250 [==============================] - 0s 2ms/step - loss: 411.7454 - mape: 11.0975 - val_loss: 595.0101 - val_mape: 17.2342\n",
      "Epoch 32/50\n",
      "250/250 [==============================] - 0s 2ms/step - loss: 410.9097 - mape: 11.0910 - val_loss: 642.2675 - val_mape: 18.0115\n",
      "Epoch 33/50\n",
      "250/250 [==============================] - 0s 2ms/step - loss: 410.3451 - mape: 11.0806 - val_loss: 573.0856 - val_mape: 16.8648\n",
      "Epoch 34/50\n",
      "250/250 [==============================] - 0s 2ms/step - loss: 410.2328 - mape: 11.0768 - val_loss: 558.1370 - val_mape: 16.6083\n",
      "Epoch 35/50\n",
      "250/250 [==============================] - 0s 2ms/step - loss: 409.1080 - mape: 11.0617 - val_loss: 559.4139 - val_mape: 16.6315\n",
      "Epoch 36/50\n",
      "250/250 [==============================] - 0s 2ms/step - loss: 409.0023 - mape: 11.0577 - val_loss: 564.1205 - val_mape: 16.7138\n",
      "Epoch 37/50\n",
      "250/250 [==============================] - 0s 2ms/step - loss: 408.1423 - mape: 11.0427 - val_loss: 620.1757 - val_mape: 17.6577\n",
      "Epoch 38/50\n",
      "250/250 [==============================] - 0s 2ms/step - loss: 407.8236 - mape: 11.0450 - val_loss: 593.5416 - val_mape: 17.2169\n",
      "Epoch 39/50\n",
      "250/250 [==============================] - 0s 2ms/step - loss: 407.1622 - mape: 11.0328 - val_loss: 498.9056 - val_mape: 15.5595\n",
      "Epoch 40/50\n",
      "250/250 [==============================] - 0s 2ms/step - loss: 406.4315 - mape: 11.0203 - val_loss: 621.5566 - val_mape: 17.6834\n",
      "Epoch 41/50\n",
      "250/250 [==============================] - 1s 2ms/step - loss: 406.3834 - mape: 11.0247 - val_loss: 606.3434 - val_mape: 17.4338\n",
      "Epoch 42/50\n",
      "250/250 [==============================] - 1s 3ms/step - loss: 405.6201 - mape: 11.0132 - val_loss: 547.4387 - val_mape: 16.4301\n",
      "Epoch 43/50\n",
      "250/250 [==============================] - 1s 3ms/step - loss: 404.5666 - mape: 10.9897 - val_loss: 597.8063 - val_mape: 17.2937\n",
      "Epoch 44/50\n",
      "250/250 [==============================] - 0s 2ms/step - loss: 404.2599 - mape: 10.9969 - val_loss: 527.8013 - val_mape: 16.0857\n",
      "Epoch 45/50\n",
      "250/250 [==============================] - 0s 2ms/step - loss: 403.7546 - mape: 10.9882 - val_loss: 542.1663 - val_mape: 16.3407\n",
      "Epoch 46/50\n",
      "250/250 [==============================] - 1s 2ms/step - loss: 403.1178 - mape: 10.9780 - val_loss: 513.3314 - val_mape: 15.8286\n",
      "Epoch 47/50\n",
      "250/250 [==============================] - 0s 2ms/step - loss: 402.8008 - mape: 10.9673 - val_loss: 578.2277 - val_mape: 16.9675\n",
      "Epoch 48/50\n",
      "250/250 [==============================] - 0s 2ms/step - loss: 402.2683 - mape: 10.9624 - val_loss: 572.3898 - val_mape: 16.8689\n",
      "Epoch 49/50\n",
      "250/250 [==============================] - 0s 2ms/step - loss: 401.1668 - mape: 10.9486 - val_loss: 576.0182 - val_mape: 16.9319\n",
      "Epoch 50/50\n",
      "250/250 [==============================] - 0s 2ms/step - loss: 400.7435 - mape: 10.9440 - val_loss: 539.8878 - val_mape: 16.3057\n",
      "MSE:  539.8877209829011\n",
      "MAE:  20.334458146662023\n",
      "11.13622980117798\n",
      "0.1119249829587113\n",
      "\n"
     ]
    }
   ],
   "source": [
    "from keras.metrics import BinaryAccuracy\n",
    "n_folds = 5\n",
    "\n",
    "kf = KFold(n_splits=n_folds, random_state=None, shuffle=False)\n",
    "\n",
    "model_cross = Sequential()\n",
    "model_cross.add(Dense(1, input_dim=1))\n",
    "learning_rate = 5e-3\n",
    "optimizer = Adam(learning_rate=5e-3)\n",
    "\n",
    "model_cross.compile(loss='mean_squared_error',optimizer=optimizer, metrics=['mape'])\n",
    "\n",
    "for train_index, test_index in kf.split(X):\n",
    "    print(\"TRAIN:\", train_index, \"TEST:\", test_index)\n",
    "    X_train, X_test = X[train_index], X[test_index]\n",
    "    y_train, y_test = Y[train_index], Y[test_index]\n",
    "\n",
    "\n",
    "    history = model_cross.fit(X_train,y_train, validation_data=(X_test, y_test),epochs=50)\n",
    "    predictions = model_cross.predict(X_test)\n",
    "    mse = mean_squared_error(predictions,y_test)\n",
    "    mae = mean_absolute_error(predictions, y_test)\n",
    "    print(\"MSE: \", mse)\n",
    "    print(\"MAE: \", mae)\n",
    "    print(np.mean(history.history['mape']))\n",
    "    print(np.std(history.history['mape']))\n",
    "    print(\"\")\n",
    "\n",
    "#histo = model.fit(X_train, y_train,validation_split = 0.2, epochs=50) # using keras"
   ]
  },
  {
   "cell_type": "code",
   "execution_count": 41,
   "metadata": {},
   "outputs": [
    {
     "name": "stdout",
     "output_type": "stream",
     "text": [
      "Model Mean: 489.98\n",
      "Model Standard Deviation: 7.71\n"
     ]
    }
   ],
   "source": [
    "print(\"Model Mean: %.2f\" % (np.mean(histo.history['val_loss'])))\n",
    "print(\"Model Standard Deviation: %.2f\" % (np.std(histo.history['val_loss'])))"
   ]
  },
  {
   "cell_type": "markdown",
   "metadata": {},
   "source": [
    "**This time when you plot the loss values across epochs, plot it for both the training set and the validation sets.** To do this, you may need to add an option to `model.compile()` and retreive it from `history`."
   ]
  },
  {
   "cell_type": "code",
   "execution_count": 42,
   "metadata": {},
   "outputs": [
    {
     "name": "stdout",
     "output_type": "stream",
     "text": [
      "dict_keys(['loss', 'mape', 'val_loss', 'val_mape'])\n"
     ]
    }
   ],
   "source": [
    "print(history.history.keys())"
   ]
  },
  {
   "cell_type": "code",
   "execution_count": 43,
   "metadata": {},
   "outputs": [
    {
     "data": {
      "image/png": "[encoded data removed]",
      "text/plain": [
       "<Figure size 432x288 with 1 Axes>"
      ]
     },
     "metadata": {
      "needs_background": "light"
     },
     "output_type": "display_data"
    }
   ],
   "source": [
    "plt.plot(history.history['loss'])\n",
    "plt.plot(history.history['val_loss'])\n",
    "plt.title('model loss')\n",
    "plt.ylabel('loss')\n",
    "plt.xlabel('epoch')\n",
    "plt.legend(['train', 'val'], loc='upper left')\n",
    "plt.show()"
   ]
  },
  {
   "cell_type": "markdown",
   "metadata": {},
   "source": [
    "-----------------------------------------\n",
    "# [Section 3] Logistic Regression (Classification) Example - Diabetes Prediction - [50 points]\n",
    "\n",
    "In this section, we will build a binary classifier (i.e., a classification model) using the same steps taken above. We'll build a model to predict whether an individual has diabetes or not based on their many vital signals and lab measurements. Take a look at the [data on kaggle](https://www.kaggle.com/datasets/uciml/pima-indians-diabetes-database?resource=download).\n",
    "\n",
    "Classification models differ from regression models in multiple ways:\n",
    "- Model architecture needs a component that restricts the model output between 0 and 1.\n",
    "- The loss value is computed in a different way.\n",
    "- Evaluating model performance needs different metrics.\n",
    "\n",
    "Keep these differences in mind when working through this section."
   ]
  },
  {
   "cell_type": "markdown",
   "metadata": {
    "id": "d9LNHnR3YPGB"
   },
   "source": [
    "### Import data and make train/test split [5]"
   ]
  },
  {
   "cell_type": "code",
   "execution_count": 44,
   "metadata": {
    "colab": {
     "base_uri": "https://localhost:8080/",
     "height": 398
    },
    "id": "9ykR4HVFYPGC",
    "outputId": "09979dff-53b9-4397-9c04-ac6a10cf2396"
   },
   "outputs": [
    {
     "name": "stdout",
     "output_type": "stream",
     "text": [
      "Dimensions of the data\n",
      "=========================\n",
      "Rows: 768, Columns: 9\n",
      "\n",
      "Data field names\n",
      "=========================\n",
      "Index(['Pregnancies', 'Glucose', 'BloodPressure', 'SkinThickness', 'Insulin',\n",
      "       'BMI', 'DiabetesPedigreeFunction', 'Age', 'Outcome'],\n",
      "      dtype='object')\n",
      "\n",
      "First few lines of data\n",
      "=========================\n",
      "   Pregnancies  Glucose  BloodPressure  SkinThickness  Insulin   BMI  \\\n",
      "0            6      148             72             35        0  33.6   \n",
      "1            1       85             66             29        0  26.6   \n",
      "2            8      183             64              0        0  23.3   \n",
      "3            1       89             66             23       94  28.1   \n",
      "4            0      137             40             35      168  43.1   \n",
      "\n",
      "   DiabetesPedigreeFunction  Age  Outcome  \n",
      "0                     0.627   50        1  \n",
      "1                     0.351   31        0  \n",
      "2                     0.672   32        1  \n",
      "3                     0.167   21        0  \n",
      "4                     2.288   33        1  \n",
      "\n"
     ]
    }
   ],
   "source": [
    "DIABETES_DATA_PATH = \"./resources/diabetes.csv\"\n",
    "diabetes_data = pd.read_csv(DIABETES_DATA_PATH)\n",
    "\n",
    "print(\"Dimensions of the data\")\n",
    "print(\"=========================\")\n",
    "print(f\"Rows: {diabetes_data.shape[0]}, Columns: {diabetes_data.shape[1]}\")\n",
    "print()\n",
    "\n",
    "print(\"Data field names\")\n",
    "print(\"=========================\")\n",
    "print(diabetes_data.columns)\n",
    "print()\n",
    "\n",
    "print(\"First few lines of data\")\n",
    "print(\"=========================\")\n",
    "print(diabetes_data.head())\n",
    "print()"
   ]
  },
  {
   "cell_type": "markdown",
   "metadata": {
    "id": "M2OVp-W_YPGD"
   },
   "source": [
    "Now let's prepare the data for the model"
   ]
  },
  {
   "cell_type": "code",
   "execution_count": 45,
   "metadata": {
    "id": "kgIoGze2YPGE"
   },
   "outputs": [],
   "source": [
    "Y = diabetes_data[\"Outcome\"]\n",
    "X = diabetes_data.drop(\"Outcome\", axis=1)"
   ]
  },
  {
   "cell_type": "markdown",
   "metadata": {},
   "source": [
    "Split the data into the training set and the testing set."
   ]
  },
  {
   "cell_type": "code",
   "execution_count": 106,
   "metadata": {
    "id": "JA1wcIKBYPGE"
   },
   "outputs": [
    {
     "name": "stdout",
     "output_type": "stream",
     "text": [
      "(614, 8) (154, 8) (614,) (154,)\n"
     ]
    }
   ],
   "source": [
    "X_train, X_test, y_train, y_test = train_test_split(X, Y, test_size=0.2, random_state=42)\n",
    "\n",
    "print(X_train.shape, X_test.shape, y_train.shape, y_test.shape)"
   ]
  },
  {
   "cell_type": "markdown",
   "metadata": {
    "id": "FYxQjCfKYPGF"
   },
   "source": [
    "### Creating the model [5]"
   ]
  },
  {
   "cell_type": "markdown",
   "metadata": {},
   "source": [
    "In classification, your model will need a `sigmoid` activation function at the end in order to restrict the regression outputs between 0 and 1. **When compiling the model, be sure to add in the accuracy metric so that we can plot the evolution of training and test set accuracy later.**"
   ]
  },
  {
   "cell_type": "code",
   "execution_count": 131,
   "metadata": {
    "id": "7UrY4k4nYPGF"
   },
   "outputs": [
    {
     "name": "stdout",
     "output_type": "stream",
     "text": [
      "Model: \"sequential_24\"\n",
      "_________________________________________________________________\n",
      " Layer (type)                Output Shape              Param #   \n",
      "=================================================================\n",
      " dense_24 (Dense)            (None, 1)                 9         \n",
      "                                                                 \n",
      "=================================================================\n",
      "Total params: 9\n",
      "Trainable params: 9\n",
      "Non-trainable params: 0\n",
      "_________________________________________________________________\n"
     ]
    }
   ],
   "source": [
    "# Step 1 - create Keras sequential model equivalent to a linear regression\n",
    "model2 = Sequential()\n",
    "model2.add(Dense(1, input_shape=(8,), activation=\"sigmoid\"))\n",
    "\n",
    "# Step 2 - Setup the gradient descent algorithm\n",
    "learning_rate = 0.001\n",
    "optimizer = Adam(learning_rate)\n",
    "\n",
    "# Step 3 - Compile the model using an appropriate loss function (binary_crossentropy) and the above optimizer\n",
    "model2.compile(optimizer=optimizer, loss=\"binary_crossentropy\", metrics=[\"accuracy\"])\n",
    "\n",
    "model2.summary()"
   ]
  },
  {
   "cell_type": "markdown",
   "metadata": {
    "id": "gp0cQVxUYPGG"
   },
   "source": [
    "### Training the model for multiple epochs [10]"
   ]
  },
  {
   "cell_type": "markdown",
   "metadata": {},
   "source": [
    "Now let's train the model for 200 epochs! Remember to plot the training history."
   ]
  },
  {
   "cell_type": "code",
   "execution_count": 132,
   "metadata": {
    "colab": {
     "base_uri": "https://localhost:8080/",
     "height": 234
    },
    "id": "zYBID6hhY-4E",
    "outputId": "fdae937d-4d27-44ae-e19d-43d9c2be89ee"
   },
   "outputs": [
    {
     "name": "stdout",
     "output_type": "stream",
     "text": [
      "Epoch 1/200\n",
      "20/20 [==============================] - 1s 10ms/step - loss: 37.4314 - accuracy: 0.6531 - val_loss: 37.2824 - val_accuracy: 0.6429\n",
      "Epoch 2/200\n",
      "20/20 [==============================] - 0s 4ms/step - loss: 34.7135 - accuracy: 0.6531 - val_loss: 34.4001 - val_accuracy: 0.6429\n",
      "Epoch 3/200\n",
      "20/20 [==============================] - 0s 4ms/step - loss: 31.9902 - accuracy: 0.6531 - val_loss: 31.6031 - val_accuracy: 0.6429\n",
      "Epoch 4/200\n",
      "20/20 [==============================] - 0s 4ms/step - loss: 29.2592 - accuracy: 0.6515 - val_loss: 28.7516 - val_accuracy: 0.6494\n",
      "Epoch 5/200\n",
      "20/20 [==============================] - 0s 4ms/step - loss: 26.5596 - accuracy: 0.6531 - val_loss: 26.0701 - val_accuracy: 0.6558\n",
      "Epoch 6/200\n",
      "20/20 [==============================] - 0s 4ms/step - loss: 23.8483 - accuracy: 0.6531 - val_loss: 23.5179 - val_accuracy: 0.6364\n",
      "Epoch 7/200\n",
      "20/20 [==============================] - 0s 4ms/step - loss: 21.4732 - accuracy: 0.6596 - val_loss: 21.1609 - val_accuracy: 0.6299\n",
      "Epoch 8/200\n",
      "20/20 [==============================] - 0s 4ms/step - loss: 19.2346 - accuracy: 0.6580 - val_loss: 19.4973 - val_accuracy: 0.6234\n",
      "Epoch 9/200\n",
      "20/20 [==============================] - 0s 4ms/step - loss: 17.5416 - accuracy: 0.6417 - val_loss: 18.0860 - val_accuracy: 0.5909\n",
      "Epoch 10/200\n",
      "20/20 [==============================] - 0s 4ms/step - loss: 16.1021 - accuracy: 0.6352 - val_loss: 16.9853 - val_accuracy: 0.5974\n",
      "Epoch 11/200\n",
      "20/20 [==============================] - 0s 4ms/step - loss: 14.9496 - accuracy: 0.6173 - val_loss: 15.9262 - val_accuracy: 0.6169\n",
      "Epoch 12/200\n",
      "20/20 [==============================] - 0s 4ms/step - loss: 13.9428 - accuracy: 0.6107 - val_loss: 15.0992 - val_accuracy: 0.5909\n",
      "Epoch 13/200\n",
      "20/20 [==============================] - 0s 4ms/step - loss: 13.1439 - accuracy: 0.5977 - val_loss: 14.4104 - val_accuracy: 0.5909\n",
      "Epoch 14/200\n",
      "20/20 [==============================] - 0s 4ms/step - loss: 12.4463 - accuracy: 0.5863 - val_loss: 13.8010 - val_accuracy: 0.5974\n",
      "Epoch 15/200\n",
      "20/20 [==============================] - 0s 4ms/step - loss: 11.8489 - accuracy: 0.5733 - val_loss: 13.1390 - val_accuracy: 0.5584\n",
      "Epoch 16/200\n",
      "20/20 [==============================] - 0s 4ms/step - loss: 11.2126 - accuracy: 0.5717 - val_loss: 12.4934 - val_accuracy: 0.5649\n",
      "Epoch 17/200\n",
      "20/20 [==============================] - 0s 4ms/step - loss: 10.6166 - accuracy: 0.5619 - val_loss: 11.8964 - val_accuracy: 0.5649\n",
      "Epoch 18/200\n",
      "20/20 [==============================] - 0s 4ms/step - loss: 10.0956 - accuracy: 0.5472 - val_loss: 11.3085 - val_accuracy: 0.5584\n",
      "Epoch 19/200\n",
      "20/20 [==============================] - 0s 4ms/step - loss: 9.5827 - accuracy: 0.5456 - val_loss: 10.7208 - val_accuracy: 0.5584\n",
      "Epoch 20/200\n",
      "20/20 [==============================] - 0s 4ms/step - loss: 9.0605 - accuracy: 0.5472 - val_loss: 10.0966 - val_accuracy: 0.5584\n",
      "Epoch 21/200\n",
      "20/20 [==============================] - 0s 4ms/step - loss: 8.5779 - accuracy: 0.5440 - val_loss: 9.5032 - val_accuracy: 0.5584\n",
      "Epoch 22/200\n",
      "20/20 [==============================] - 0s 4ms/step - loss: 8.1086 - accuracy: 0.5456 - val_loss: 8.9574 - val_accuracy: 0.5649\n",
      "Epoch 23/200\n",
      "20/20 [==============================] - 0s 4ms/step - loss: 7.6728 - accuracy: 0.5440 - val_loss: 8.4178 - val_accuracy: 0.5455\n",
      "Epoch 24/200\n",
      "20/20 [==============================] - 0s 4ms/step - loss: 7.2540 - accuracy: 0.5456 - val_loss: 7.9216 - val_accuracy: 0.5649\n",
      "Epoch 25/200\n",
      "20/20 [==============================] - 0s 4ms/step - loss: 6.8410 - accuracy: 0.5489 - val_loss: 7.4407 - val_accuracy: 0.5584\n",
      "Epoch 26/200\n",
      "20/20 [==============================] - 0s 4ms/step - loss: 6.4677 - accuracy: 0.5603 - val_loss: 6.8884 - val_accuracy: 0.5649\n",
      "Epoch 27/200\n",
      "20/20 [==============================] - 0s 4ms/step - loss: 6.0901 - accuracy: 0.5537 - val_loss: 6.4323 - val_accuracy: 0.5584\n",
      "Epoch 28/200\n",
      "20/20 [==============================] - 0s 4ms/step - loss: 5.7441 - accuracy: 0.5586 - val_loss: 6.0206 - val_accuracy: 0.5584\n",
      "Epoch 29/200\n",
      "20/20 [==============================] - 0s 4ms/step - loss: 5.4240 - accuracy: 0.5651 - val_loss: 5.6401 - val_accuracy: 0.5779\n",
      "Epoch 30/200\n",
      "20/20 [==============================] - 0s 4ms/step - loss: 5.1222 - accuracy: 0.5537 - val_loss: 5.2314 - val_accuracy: 0.5844\n",
      "Epoch 31/200\n",
      "20/20 [==============================] - 0s 4ms/step - loss: 4.8145 - accuracy: 0.5554 - val_loss: 4.8550 - val_accuracy: 0.5779\n",
      "Epoch 32/200\n",
      "20/20 [==============================] - 0s 4ms/step - loss: 4.5253 - accuracy: 0.5554 - val_loss: 4.4848 - val_accuracy: 0.5844\n",
      "Epoch 33/200\n",
      "20/20 [==============================] - 0s 4ms/step - loss: 4.2625 - accuracy: 0.5603 - val_loss: 4.1575 - val_accuracy: 0.5844\n",
      "Epoch 34/200\n",
      "20/20 [==============================] - 0s 4ms/step - loss: 4.0238 - accuracy: 0.5554 - val_loss: 3.8648 - val_accuracy: 0.5909\n",
      "Epoch 35/200\n",
      "20/20 [==============================] - 0s 4ms/step - loss: 3.8383 - accuracy: 0.5635 - val_loss: 3.5983 - val_accuracy: 0.6039\n",
      "Epoch 36/200\n",
      "20/20 [==============================] - 0s 4ms/step - loss: 3.6296 - accuracy: 0.5651 - val_loss: 3.3952 - val_accuracy: 0.6104\n",
      "Epoch 37/200\n",
      "20/20 [==============================] - 0s 4ms/step - loss: 3.4732 - accuracy: 0.5586 - val_loss: 3.1930 - val_accuracy: 0.6169\n",
      "Epoch 38/200\n",
      "20/20 [==============================] - 0s 4ms/step - loss: 3.3271 - accuracy: 0.5782 - val_loss: 3.0115 - val_accuracy: 0.6234\n",
      "Epoch 39/200\n",
      "20/20 [==============================] - 0s 4ms/step - loss: 3.1929 - accuracy: 0.5733 - val_loss: 2.8748 - val_accuracy: 0.6364\n",
      "Epoch 40/200\n",
      "20/20 [==============================] - 0s 4ms/step - loss: 3.0723 - accuracy: 0.5814 - val_loss: 2.7263 - val_accuracy: 0.6299\n",
      "Epoch 41/200\n",
      "20/20 [==============================] - 0s 4ms/step - loss: 2.9675 - accuracy: 0.5912 - val_loss: 2.6113 - val_accuracy: 0.6429\n",
      "Epoch 42/200\n",
      "20/20 [==============================] - 0s 4ms/step - loss: 2.8844 - accuracy: 0.6026 - val_loss: 2.4902 - val_accuracy: 0.6364\n",
      "Epoch 43/200\n",
      "20/20 [==============================] - 0s 4ms/step - loss: 2.7972 - accuracy: 0.6026 - val_loss: 2.3979 - val_accuracy: 0.6234\n",
      "Epoch 44/200\n",
      "20/20 [==============================] - 0s 4ms/step - loss: 2.7181 - accuracy: 0.6075 - val_loss: 2.3142 - val_accuracy: 0.6299\n",
      "Epoch 45/200\n",
      "20/20 [==============================] - 0s 4ms/step - loss: 2.6554 - accuracy: 0.6156 - val_loss: 2.2416 - val_accuracy: 0.6429\n",
      "Epoch 46/200\n",
      "20/20 [==============================] - 0s 4ms/step - loss: 2.5948 - accuracy: 0.6010 - val_loss: 2.1891 - val_accuracy: 0.6429\n",
      "Epoch 47/200\n",
      "20/20 [==============================] - 0s 4ms/step - loss: 2.5294 - accuracy: 0.6091 - val_loss: 2.1169 - val_accuracy: 0.6429\n",
      "Epoch 48/200\n",
      "20/20 [==============================] - 0s 4ms/step - loss: 2.4687 - accuracy: 0.6189 - val_loss: 2.0697 - val_accuracy: 0.6558\n",
      "Epoch 49/200\n",
      "20/20 [==============================] - 0s 4ms/step - loss: 2.4438 - accuracy: 0.5945 - val_loss: 2.0414 - val_accuracy: 0.6558\n",
      "Epoch 50/200\n",
      "20/20 [==============================] - 0s 4ms/step - loss: 2.3626 - accuracy: 0.6173 - val_loss: 1.9664 - val_accuracy: 0.6688\n",
      "Epoch 51/200\n",
      "20/20 [==============================] - 0s 4ms/step - loss: 2.3206 - accuracy: 0.6336 - val_loss: 1.9255 - val_accuracy: 0.6688\n",
      "Epoch 52/200\n",
      "20/20 [==============================] - 0s 4ms/step - loss: 2.2726 - accuracy: 0.6238 - val_loss: 1.8857 - val_accuracy: 0.6688\n",
      "Epoch 53/200\n",
      "20/20 [==============================] - 0s 4ms/step - loss: 2.2437 - accuracy: 0.6303 - val_loss: 1.8390 - val_accuracy: 0.6688\n",
      "Epoch 54/200\n",
      "20/20 [==============================] - 0s 4ms/step - loss: 2.1928 - accuracy: 0.6205 - val_loss: 1.8161 - val_accuracy: 0.6688\n",
      "Epoch 55/200\n",
      "20/20 [==============================] - 0s 4ms/step - loss: 2.1505 - accuracy: 0.6319 - val_loss: 1.7611 - val_accuracy: 0.6688\n",
      "Epoch 56/200\n",
      "20/20 [==============================] - 0s 4ms/step - loss: 2.1075 - accuracy: 0.6303 - val_loss: 1.7367 - val_accuracy: 0.6753\n",
      "Epoch 57/200\n",
      "20/20 [==============================] - 0s 4ms/step - loss: 2.0795 - accuracy: 0.6287 - val_loss: 1.6994 - val_accuracy: 0.6688\n",
      "Epoch 58/200\n",
      "20/20 [==============================] - 0s 4ms/step - loss: 2.0359 - accuracy: 0.6336 - val_loss: 1.6593 - val_accuracy: 0.6753\n",
      "Epoch 59/200\n",
      "20/20 [==============================] - 0s 4ms/step - loss: 2.0043 - accuracy: 0.6254 - val_loss: 1.6419 - val_accuracy: 0.6818\n",
      "Epoch 60/200\n",
      "20/20 [==============================] - 0s 4ms/step - loss: 1.9587 - accuracy: 0.6254 - val_loss: 1.5945 - val_accuracy: 0.6883\n",
      "Epoch 61/200\n",
      "20/20 [==============================] - 0s 4ms/step - loss: 1.9237 - accuracy: 0.6270 - val_loss: 1.5674 - val_accuracy: 0.6818\n",
      "Epoch 62/200\n",
      "20/20 [==============================] - 0s 4ms/step - loss: 1.9063 - accuracy: 0.6189 - val_loss: 1.5317 - val_accuracy: 0.6883\n",
      "Epoch 63/200\n",
      "20/20 [==============================] - 0s 4ms/step - loss: 1.8564 - accuracy: 0.6368 - val_loss: 1.5092 - val_accuracy: 0.6883\n",
      "Epoch 64/200\n",
      "20/20 [==============================] - 0s 4ms/step - loss: 1.8223 - accuracy: 0.6270 - val_loss: 1.4839 - val_accuracy: 0.6948\n",
      "Epoch 65/200\n",
      "20/20 [==============================] - 0s 4ms/step - loss: 1.7945 - accuracy: 0.6238 - val_loss: 1.4618 - val_accuracy: 0.6818\n",
      "Epoch 66/200\n",
      "20/20 [==============================] - 0s 4ms/step - loss: 1.7743 - accuracy: 0.6287 - val_loss: 1.4077 - val_accuracy: 0.6818\n",
      "Epoch 67/200\n",
      "20/20 [==============================] - 0s 4ms/step - loss: 1.7354 - accuracy: 0.6319 - val_loss: 1.3893 - val_accuracy: 0.6818\n",
      "Epoch 68/200\n",
      "20/20 [==============================] - 0s 4ms/step - loss: 1.7036 - accuracy: 0.6303 - val_loss: 1.3525 - val_accuracy: 0.6883\n",
      "Epoch 69/200\n",
      "20/20 [==============================] - 0s 4ms/step - loss: 1.6749 - accuracy: 0.6417 - val_loss: 1.3288 - val_accuracy: 0.6948\n",
      "Epoch 70/200\n",
      "20/20 [==============================] - 0s 4ms/step - loss: 1.6465 - accuracy: 0.6254 - val_loss: 1.3150 - val_accuracy: 0.7078\n",
      "Epoch 71/200\n",
      "20/20 [==============================] - 0s 4ms/step - loss: 1.6234 - accuracy: 0.6450 - val_loss: 1.2898 - val_accuracy: 0.7078\n",
      "Epoch 72/200\n",
      "20/20 [==============================] - 0s 4ms/step - loss: 1.5941 - accuracy: 0.6384 - val_loss: 1.2607 - val_accuracy: 0.7143\n",
      "Epoch 73/200\n",
      "20/20 [==============================] - 0s 4ms/step - loss: 1.5730 - accuracy: 0.6287 - val_loss: 1.2509 - val_accuracy: 0.7078\n",
      "Epoch 74/200\n",
      "20/20 [==============================] - 0s 4ms/step - loss: 1.5389 - accuracy: 0.6498 - val_loss: 1.2103 - val_accuracy: 0.7208\n",
      "Epoch 75/200\n",
      "20/20 [==============================] - 0s 4ms/step - loss: 1.5125 - accuracy: 0.6498 - val_loss: 1.1868 - val_accuracy: 0.7208\n",
      "Epoch 76/200\n",
      "20/20 [==============================] - 0s 4ms/step - loss: 1.4897 - accuracy: 0.6466 - val_loss: 1.1618 - val_accuracy: 0.7273\n",
      "Epoch 77/200\n",
      "20/20 [==============================] - 0s 4ms/step - loss: 1.4721 - accuracy: 0.6482 - val_loss: 1.1449 - val_accuracy: 0.7338\n",
      "Epoch 78/200\n",
      "20/20 [==============================] - 0s 4ms/step - loss: 1.4368 - accuracy: 0.6433 - val_loss: 1.1102 - val_accuracy: 0.7403\n",
      "Epoch 79/200\n",
      "20/20 [==============================] - 0s 4ms/step - loss: 1.4236 - accuracy: 0.6450 - val_loss: 1.0934 - val_accuracy: 0.7468\n",
      "Epoch 80/200\n",
      "20/20 [==============================] - 0s 4ms/step - loss: 1.3944 - accuracy: 0.6612 - val_loss: 1.0717 - val_accuracy: 0.7468\n",
      "Epoch 81/200\n",
      "20/20 [==============================] - 0s 4ms/step - loss: 1.3711 - accuracy: 0.6466 - val_loss: 1.0444 - val_accuracy: 0.7468\n",
      "Epoch 82/200\n",
      "20/20 [==============================] - 0s 4ms/step - loss: 1.3472 - accuracy: 0.6531 - val_loss: 1.0288 - val_accuracy: 0.7597\n",
      "Epoch 83/200\n",
      "20/20 [==============================] - 0s 4ms/step - loss: 1.3249 - accuracy: 0.6564 - val_loss: 1.0174 - val_accuracy: 0.7597\n",
      "Epoch 84/200\n",
      "20/20 [==============================] - 0s 4ms/step - loss: 1.3136 - accuracy: 0.6401 - val_loss: 0.9978 - val_accuracy: 0.7597\n",
      "Epoch 85/200\n",
      "20/20 [==============================] - 0s 4ms/step - loss: 1.2841 - accuracy: 0.6612 - val_loss: 0.9764 - val_accuracy: 0.7792\n",
      "Epoch 86/200\n",
      "20/20 [==============================] - 0s 4ms/step - loss: 1.2666 - accuracy: 0.6564 - val_loss: 0.9630 - val_accuracy: 0.7597\n",
      "Epoch 87/200\n",
      "20/20 [==============================] - 0s 4ms/step - loss: 1.2435 - accuracy: 0.6629 - val_loss: 0.9485 - val_accuracy: 0.7662\n",
      "Epoch 88/200\n",
      "20/20 [==============================] - 0s 4ms/step - loss: 1.2261 - accuracy: 0.6596 - val_loss: 0.9275 - val_accuracy: 0.7792\n",
      "Epoch 89/200\n",
      "20/20 [==============================] - 0s 4ms/step - loss: 1.2061 - accuracy: 0.6547 - val_loss: 0.9201 - val_accuracy: 0.7662\n",
      "Epoch 90/200\n",
      "20/20 [==============================] - 0s 4ms/step - loss: 1.1883 - accuracy: 0.6564 - val_loss: 0.9012 - val_accuracy: 0.7727\n",
      "Epoch 91/200\n",
      "20/20 [==============================] - 0s 4ms/step - loss: 1.1703 - accuracy: 0.6612 - val_loss: 0.8879 - val_accuracy: 0.7662\n",
      "Epoch 92/200\n",
      "20/20 [==============================] - 0s 4ms/step - loss: 1.1524 - accuracy: 0.6547 - val_loss: 0.8677 - val_accuracy: 0.7597\n",
      "Epoch 93/200\n",
      "20/20 [==============================] - 0s 4ms/step - loss: 1.1424 - accuracy: 0.6629 - val_loss: 0.8480 - val_accuracy: 0.7792\n",
      "Epoch 94/200\n",
      "20/20 [==============================] - 0s 4ms/step - loss: 1.1248 - accuracy: 0.6661 - val_loss: 0.8392 - val_accuracy: 0.7727\n",
      "Epoch 95/200\n",
      "20/20 [==============================] - 0s 4ms/step - loss: 1.1032 - accuracy: 0.6645 - val_loss: 0.8222 - val_accuracy: 0.7792\n",
      "Epoch 96/200\n",
      "20/20 [==============================] - 0s 4ms/step - loss: 1.0860 - accuracy: 0.6498 - val_loss: 0.8108 - val_accuracy: 0.7727\n",
      "Epoch 97/200\n",
      "20/20 [==============================] - 0s 4ms/step - loss: 1.0794 - accuracy: 0.6629 - val_loss: 0.7933 - val_accuracy: 0.7792\n",
      "Epoch 98/200\n",
      "20/20 [==============================] - 0s 4ms/step - loss: 1.0620 - accuracy: 0.6482 - val_loss: 0.7922 - val_accuracy: 0.7662\n",
      "Epoch 99/200\n",
      "20/20 [==============================] - 0s 4ms/step - loss: 1.0451 - accuracy: 0.6710 - val_loss: 0.7817 - val_accuracy: 0.7857\n",
      "Epoch 100/200\n",
      "20/20 [==============================] - 0s 4ms/step - loss: 1.0341 - accuracy: 0.6596 - val_loss: 0.7651 - val_accuracy: 0.7792\n",
      "Epoch 101/200\n",
      "20/20 [==============================] - 0s 4ms/step - loss: 1.0283 - accuracy: 0.6498 - val_loss: 0.7572 - val_accuracy: 0.7532\n",
      "Epoch 102/200\n",
      "20/20 [==============================] - 0s 4ms/step - loss: 0.9970 - accuracy: 0.6661 - val_loss: 0.7504 - val_accuracy: 0.7662\n",
      "Epoch 103/200\n",
      "20/20 [==============================] - 0s 4ms/step - loss: 0.9901 - accuracy: 0.6612 - val_loss: 0.7416 - val_accuracy: 0.7532\n",
      "Epoch 104/200\n",
      "20/20 [==============================] - 0s 4ms/step - loss: 0.9702 - accuracy: 0.6580 - val_loss: 0.7340 - val_accuracy: 0.7792\n",
      "Epoch 105/200\n",
      "20/20 [==============================] - 0s 4ms/step - loss: 0.9759 - accuracy: 0.6466 - val_loss: 0.7118 - val_accuracy: 0.7597\n",
      "Epoch 106/200\n",
      "20/20 [==============================] - 0s 4ms/step - loss: 0.9491 - accuracy: 0.6678 - val_loss: 0.7135 - val_accuracy: 0.7468\n",
      "Epoch 107/200\n",
      "20/20 [==============================] - 0s 4ms/step - loss: 0.9383 - accuracy: 0.6596 - val_loss: 0.7031 - val_accuracy: 0.7597\n",
      "Epoch 108/200\n",
      "20/20 [==============================] - 0s 4ms/step - loss: 0.9319 - accuracy: 0.6612 - val_loss: 0.6988 - val_accuracy: 0.7597\n",
      "Epoch 109/200\n",
      "20/20 [==============================] - 0s 4ms/step - loss: 0.9136 - accuracy: 0.6564 - val_loss: 0.6832 - val_accuracy: 0.7532\n",
      "Epoch 110/200\n",
      "20/20 [==============================] - 0s 4ms/step - loss: 0.9026 - accuracy: 0.6515 - val_loss: 0.6824 - val_accuracy: 0.7597\n",
      "Epoch 111/200\n",
      "20/20 [==============================] - 0s 4ms/step - loss: 0.8911 - accuracy: 0.6612 - val_loss: 0.6633 - val_accuracy: 0.7532\n",
      "Epoch 112/200\n",
      "20/20 [==============================] - 0s 4ms/step - loss: 0.8856 - accuracy: 0.6759 - val_loss: 0.6675 - val_accuracy: 0.7532\n",
      "Epoch 113/200\n",
      "20/20 [==============================] - 0s 4ms/step - loss: 0.8856 - accuracy: 0.6450 - val_loss: 0.6722 - val_accuracy: 0.7597\n",
      "Epoch 114/200\n",
      "20/20 [==============================] - 0s 4ms/step - loss: 0.8696 - accuracy: 0.6726 - val_loss: 0.6468 - val_accuracy: 0.7597\n",
      "Epoch 115/200\n",
      "20/20 [==============================] - 0s 4ms/step - loss: 0.8602 - accuracy: 0.6710 - val_loss: 0.6417 - val_accuracy: 0.7468\n",
      "Epoch 116/200\n",
      "20/20 [==============================] - 0s 4ms/step - loss: 0.8452 - accuracy: 0.6596 - val_loss: 0.6360 - val_accuracy: 0.7468\n",
      "Epoch 117/200\n",
      "20/20 [==============================] - 0s 4ms/step - loss: 0.8336 - accuracy: 0.6612 - val_loss: 0.6329 - val_accuracy: 0.7468\n",
      "Epoch 118/200\n",
      "20/20 [==============================] - 0s 4ms/step - loss: 0.8295 - accuracy: 0.6612 - val_loss: 0.6211 - val_accuracy: 0.7468\n",
      "Epoch 119/200\n",
      "20/20 [==============================] - 0s 4ms/step - loss: 0.8274 - accuracy: 0.6531 - val_loss: 0.6270 - val_accuracy: 0.7532\n",
      "Epoch 120/200\n",
      "20/20 [==============================] - 0s 4ms/step - loss: 0.8070 - accuracy: 0.6840 - val_loss: 0.6174 - val_accuracy: 0.7532\n",
      "Epoch 121/200\n",
      "20/20 [==============================] - 0s 4ms/step - loss: 0.8094 - accuracy: 0.6694 - val_loss: 0.6031 - val_accuracy: 0.7597\n",
      "Epoch 122/200\n",
      "20/20 [==============================] - 0s 4ms/step - loss: 0.7873 - accuracy: 0.6808 - val_loss: 0.6230 - val_accuracy: 0.7468\n",
      "Epoch 123/200\n",
      "20/20 [==============================] - 0s 4ms/step - loss: 0.8028 - accuracy: 0.6645 - val_loss: 0.5982 - val_accuracy: 0.7468\n",
      "Epoch 124/200\n",
      "20/20 [==============================] - 0s 4ms/step - loss: 0.7831 - accuracy: 0.6694 - val_loss: 0.5951 - val_accuracy: 0.7662\n",
      "Epoch 125/200\n",
      "20/20 [==============================] - 0s 4ms/step - loss: 0.7695 - accuracy: 0.6792 - val_loss: 0.5994 - val_accuracy: 0.7468\n",
      "Epoch 126/200\n",
      "20/20 [==============================] - 0s 4ms/step - loss: 0.7652 - accuracy: 0.6726 - val_loss: 0.5928 - val_accuracy: 0.7597\n",
      "Epoch 127/200\n",
      "20/20 [==============================] - 0s 4ms/step - loss: 0.7622 - accuracy: 0.6726 - val_loss: 0.5861 - val_accuracy: 0.7532\n",
      "Epoch 128/200\n",
      "20/20 [==============================] - 0s 4ms/step - loss: 0.7495 - accuracy: 0.6743 - val_loss: 0.5810 - val_accuracy: 0.7468\n",
      "Epoch 129/200\n",
      "20/20 [==============================] - 0s 4ms/step - loss: 0.7428 - accuracy: 0.6775 - val_loss: 0.5807 - val_accuracy: 0.7597\n",
      "Epoch 130/200\n",
      "20/20 [==============================] - 0s 4ms/step - loss: 0.7394 - accuracy: 0.6906 - val_loss: 0.5757 - val_accuracy: 0.7662\n",
      "Epoch 131/200\n",
      "20/20 [==============================] - 0s 4ms/step - loss: 0.7259 - accuracy: 0.6743 - val_loss: 0.5861 - val_accuracy: 0.7597\n",
      "Epoch 132/200\n",
      "20/20 [==============================] - 0s 4ms/step - loss: 0.7276 - accuracy: 0.6808 - val_loss: 0.5654 - val_accuracy: 0.7662\n",
      "Epoch 133/200\n",
      "20/20 [==============================] - 0s 4ms/step - loss: 0.7208 - accuracy: 0.6808 - val_loss: 0.5644 - val_accuracy: 0.7597\n",
      "Epoch 134/200\n",
      "20/20 [==============================] - 0s 4ms/step - loss: 0.7147 - accuracy: 0.6775 - val_loss: 0.5766 - val_accuracy: 0.7597\n",
      "Epoch 135/200\n",
      "20/20 [==============================] - 0s 4ms/step - loss: 0.7087 - accuracy: 0.6954 - val_loss: 0.5567 - val_accuracy: 0.7662\n",
      "Epoch 136/200\n",
      "20/20 [==============================] - 0s 4ms/step - loss: 0.6994 - accuracy: 0.6792 - val_loss: 0.5572 - val_accuracy: 0.7662\n",
      "Epoch 137/200\n",
      "20/20 [==============================] - 0s 4ms/step - loss: 0.6969 - accuracy: 0.6857 - val_loss: 0.5569 - val_accuracy: 0.7662\n",
      "Epoch 138/200\n",
      "20/20 [==============================] - 0s 4ms/step - loss: 0.6980 - accuracy: 0.6873 - val_loss: 0.5640 - val_accuracy: 0.7727\n",
      "Epoch 139/200\n",
      "20/20 [==============================] - 0s 4ms/step - loss: 0.6956 - accuracy: 0.6759 - val_loss: 0.5664 - val_accuracy: 0.7532\n",
      "Epoch 140/200\n",
      "20/20 [==============================] - 0s 4ms/step - loss: 0.7003 - accuracy: 0.6792 - val_loss: 0.5552 - val_accuracy: 0.7662\n",
      "Epoch 141/200\n",
      "20/20 [==============================] - 0s 4ms/step - loss: 0.6906 - accuracy: 0.6906 - val_loss: 0.5589 - val_accuracy: 0.7792\n",
      "Epoch 142/200\n",
      "20/20 [==============================] - 0s 4ms/step - loss: 0.6783 - accuracy: 0.6889 - val_loss: 0.5447 - val_accuracy: 0.7922\n",
      "Epoch 143/200\n",
      "20/20 [==============================] - 0s 4ms/step - loss: 0.6737 - accuracy: 0.6906 - val_loss: 0.5430 - val_accuracy: 0.7727\n",
      "Epoch 144/200\n",
      "20/20 [==============================] - 0s 4ms/step - loss: 0.6807 - accuracy: 0.6678 - val_loss: 0.5485 - val_accuracy: 0.7662\n",
      "Epoch 145/200\n",
      "20/20 [==============================] - 0s 4ms/step - loss: 0.6685 - accuracy: 0.6808 - val_loss: 0.5542 - val_accuracy: 0.7662\n",
      "Epoch 146/200\n",
      "20/20 [==============================] - 0s 4ms/step - loss: 0.6662 - accuracy: 0.6808 - val_loss: 0.5460 - val_accuracy: 0.7792\n",
      "Epoch 147/200\n",
      "20/20 [==============================] - 0s 4ms/step - loss: 0.6543 - accuracy: 0.6873 - val_loss: 0.5413 - val_accuracy: 0.7727\n",
      "Epoch 148/200\n",
      "20/20 [==============================] - 0s 4ms/step - loss: 0.6534 - accuracy: 0.6873 - val_loss: 0.5461 - val_accuracy: 0.7857\n",
      "Epoch 149/200\n",
      "20/20 [==============================] - 0s 4ms/step - loss: 0.6585 - accuracy: 0.6775 - val_loss: 0.5726 - val_accuracy: 0.7338\n",
      "Epoch 150/200\n",
      "20/20 [==============================] - 0s 4ms/step - loss: 0.6674 - accuracy: 0.6808 - val_loss: 0.5487 - val_accuracy: 0.7727\n",
      "Epoch 151/200\n",
      "20/20 [==============================] - 0s 4ms/step - loss: 0.6479 - accuracy: 0.6857 - val_loss: 0.5453 - val_accuracy: 0.7792\n",
      "Epoch 152/200\n",
      "20/20 [==============================] - 0s 4ms/step - loss: 0.6431 - accuracy: 0.6889 - val_loss: 0.5405 - val_accuracy: 0.7727\n",
      "Epoch 153/200\n",
      "20/20 [==============================] - 0s 4ms/step - loss: 0.6444 - accuracy: 0.6792 - val_loss: 0.5639 - val_accuracy: 0.7338\n",
      "Epoch 154/200\n",
      "20/20 [==============================] - 0s 4ms/step - loss: 0.6386 - accuracy: 0.6873 - val_loss: 0.5444 - val_accuracy: 0.7727\n",
      "Epoch 155/200\n",
      "20/20 [==============================] - 0s 4ms/step - loss: 0.6394 - accuracy: 0.6906 - val_loss: 0.5426 - val_accuracy: 0.7727\n",
      "Epoch 156/200\n",
      "20/20 [==============================] - 0s 4ms/step - loss: 0.6422 - accuracy: 0.6792 - val_loss: 0.5470 - val_accuracy: 0.7792\n",
      "Epoch 157/200\n",
      "20/20 [==============================] - 0s 4ms/step - loss: 0.6315 - accuracy: 0.6808 - val_loss: 0.5451 - val_accuracy: 0.7727\n",
      "Epoch 158/200\n",
      "20/20 [==============================] - 0s 4ms/step - loss: 0.6273 - accuracy: 0.6873 - val_loss: 0.5390 - val_accuracy: 0.7922\n",
      "Epoch 159/200\n",
      "20/20 [==============================] - 0s 4ms/step - loss: 0.6296 - accuracy: 0.6873 - val_loss: 0.5418 - val_accuracy: 0.7727\n",
      "Epoch 160/200\n",
      "20/20 [==============================] - 0s 4ms/step - loss: 0.6256 - accuracy: 0.6889 - val_loss: 0.5432 - val_accuracy: 0.7792\n",
      "Epoch 161/200\n",
      "20/20 [==============================] - 0s 4ms/step - loss: 0.6216 - accuracy: 0.6873 - val_loss: 0.5373 - val_accuracy: 0.7792\n",
      "Epoch 162/200\n",
      "20/20 [==============================] - 0s 4ms/step - loss: 0.6245 - accuracy: 0.6938 - val_loss: 0.5339 - val_accuracy: 0.7857\n",
      "Epoch 163/200\n",
      "20/20 [==============================] - 0s 4ms/step - loss: 0.6327 - accuracy: 0.6857 - val_loss: 0.5421 - val_accuracy: 0.7922\n",
      "Epoch 164/200\n",
      "20/20 [==============================] - 0s 4ms/step - loss: 0.6220 - accuracy: 0.6954 - val_loss: 0.5666 - val_accuracy: 0.7013\n",
      "Epoch 165/200\n",
      "20/20 [==============================] - 0s 4ms/step - loss: 0.6257 - accuracy: 0.6922 - val_loss: 0.5369 - val_accuracy: 0.8052\n",
      "Epoch 166/200\n",
      "20/20 [==============================] - 0s 4ms/step - loss: 0.6149 - accuracy: 0.6889 - val_loss: 0.5471 - val_accuracy: 0.7792\n",
      "Epoch 167/200\n",
      "20/20 [==============================] - 0s 4ms/step - loss: 0.6144 - accuracy: 0.6873 - val_loss: 0.5445 - val_accuracy: 0.7792\n",
      "Epoch 168/200\n",
      "20/20 [==============================] - 0s 4ms/step - loss: 0.6143 - accuracy: 0.6808 - val_loss: 0.5800 - val_accuracy: 0.6948\n",
      "Epoch 169/200\n",
      "20/20 [==============================] - 0s 4ms/step - loss: 0.6397 - accuracy: 0.6710 - val_loss: 0.5512 - val_accuracy: 0.7662\n",
      "Epoch 170/200\n",
      "20/20 [==============================] - 0s 4ms/step - loss: 0.6123 - accuracy: 0.6889 - val_loss: 0.5391 - val_accuracy: 0.7922\n",
      "Epoch 171/200\n",
      "20/20 [==============================] - 0s 4ms/step - loss: 0.6098 - accuracy: 0.6889 - val_loss: 0.5457 - val_accuracy: 0.7727\n",
      "Epoch 172/200\n",
      "20/20 [==============================] - 0s 4ms/step - loss: 0.6103 - accuracy: 0.6922 - val_loss: 0.5498 - val_accuracy: 0.7922\n",
      "Epoch 173/200\n",
      "20/20 [==============================] - 0s 4ms/step - loss: 0.6133 - accuracy: 0.6873 - val_loss: 0.5466 - val_accuracy: 0.7792\n",
      "Epoch 174/200\n",
      "20/20 [==============================] - 0s 4ms/step - loss: 0.6081 - accuracy: 0.6938 - val_loss: 0.5467 - val_accuracy: 0.7273\n",
      "Epoch 175/200\n",
      "20/20 [==============================] - 0s 4ms/step - loss: 0.6079 - accuracy: 0.6954 - val_loss: 0.5449 - val_accuracy: 0.7922\n",
      "Epoch 176/200\n",
      "20/20 [==============================] - 0s 4ms/step - loss: 0.6101 - accuracy: 0.6808 - val_loss: 0.5491 - val_accuracy: 0.7792\n",
      "Epoch 177/200\n",
      "20/20 [==============================] - 0s 4ms/step - loss: 0.6198 - accuracy: 0.6792 - val_loss: 0.5515 - val_accuracy: 0.7727\n",
      "Epoch 178/200\n",
      "20/20 [==============================] - 0s 4ms/step - loss: 0.6037 - accuracy: 0.6954 - val_loss: 0.5576 - val_accuracy: 0.7078\n",
      "Epoch 179/200\n",
      "20/20 [==============================] - 0s 4ms/step - loss: 0.6056 - accuracy: 0.6857 - val_loss: 0.5469 - val_accuracy: 0.7792\n",
      "Epoch 180/200\n",
      "20/20 [==============================] - 0s 4ms/step - loss: 0.6062 - accuracy: 0.6857 - val_loss: 0.5540 - val_accuracy: 0.7532\n",
      "Epoch 181/200\n",
      "20/20 [==============================] - 0s 4ms/step - loss: 0.6052 - accuracy: 0.7052 - val_loss: 0.5492 - val_accuracy: 0.7727\n",
      "Epoch 182/200\n",
      "20/20 [==============================] - 0s 4ms/step - loss: 0.6039 - accuracy: 0.6938 - val_loss: 0.5547 - val_accuracy: 0.7143\n",
      "Epoch 183/200\n",
      "20/20 [==============================] - 0s 4ms/step - loss: 0.6034 - accuracy: 0.6857 - val_loss: 0.5585 - val_accuracy: 0.7013\n",
      "Epoch 184/200\n",
      "20/20 [==============================] - 0s 4ms/step - loss: 0.6109 - accuracy: 0.6743 - val_loss: 0.5639 - val_accuracy: 0.7078\n",
      "Epoch 185/200\n",
      "20/20 [==============================] - 0s 4ms/step - loss: 0.6146 - accuracy: 0.6873 - val_loss: 0.5506 - val_accuracy: 0.7792\n",
      "Epoch 186/200\n",
      "20/20 [==============================] - 0s 4ms/step - loss: 0.6044 - accuracy: 0.6840 - val_loss: 0.5481 - val_accuracy: 0.7532\n",
      "Epoch 187/200\n",
      "20/20 [==============================] - 0s 4ms/step - loss: 0.6105 - accuracy: 0.6922 - val_loss: 0.5502 - val_accuracy: 0.7792\n",
      "Epoch 188/200\n",
      "20/20 [==============================] - 0s 4ms/step - loss: 0.6037 - accuracy: 0.6824 - val_loss: 0.5689 - val_accuracy: 0.7662\n",
      "Epoch 189/200\n",
      "20/20 [==============================] - 0s 4ms/step - loss: 0.6112 - accuracy: 0.6792 - val_loss: 0.5512 - val_accuracy: 0.7468\n",
      "Epoch 190/200\n",
      "20/20 [==============================] - 0s 4ms/step - loss: 0.5985 - accuracy: 0.6938 - val_loss: 0.5610 - val_accuracy: 0.7662\n",
      "Epoch 191/200\n",
      "20/20 [==============================] - 0s 4ms/step - loss: 0.5988 - accuracy: 0.7003 - val_loss: 0.5490 - val_accuracy: 0.7727\n",
      "Epoch 192/200\n",
      "20/20 [==============================] - 0s 4ms/step - loss: 0.6091 - accuracy: 0.6840 - val_loss: 0.5572 - val_accuracy: 0.7792\n",
      "Epoch 193/200\n",
      "20/20 [==============================] - 0s 4ms/step - loss: 0.5988 - accuracy: 0.6938 - val_loss: 0.5530 - val_accuracy: 0.7532\n",
      "Epoch 194/200\n",
      "20/20 [==============================] - 0s 4ms/step - loss: 0.6003 - accuracy: 0.6938 - val_loss: 0.5602 - val_accuracy: 0.6948\n",
      "Epoch 195/200\n",
      "20/20 [==============================] - 0s 4ms/step - loss: 0.5993 - accuracy: 0.6938 - val_loss: 0.5630 - val_accuracy: 0.7013\n",
      "Epoch 196/200\n",
      "20/20 [==============================] - 0s 4ms/step - loss: 0.6106 - accuracy: 0.6906 - val_loss: 0.5588 - val_accuracy: 0.7987\n",
      "Epoch 197/200\n",
      "20/20 [==============================] - 0s 4ms/step - loss: 0.5989 - accuracy: 0.7003 - val_loss: 0.5543 - val_accuracy: 0.7662\n",
      "Epoch 198/200\n",
      "20/20 [==============================] - 0s 4ms/step - loss: 0.6013 - accuracy: 0.6938 - val_loss: 0.5627 - val_accuracy: 0.7013\n",
      "Epoch 199/200\n",
      "20/20 [==============================] - 0s 4ms/step - loss: 0.5992 - accuracy: 0.6889 - val_loss: 0.5654 - val_accuracy: 0.7013\n",
      "Epoch 200/200\n",
      "20/20 [==============================] - 0s 4ms/step - loss: 0.6045 - accuracy: 0.6873 - val_loss: 0.5507 - val_accuracy: 0.7727\n"
     ]
    }
   ],
   "source": [
    "history = model2.fit(X_train, y_train, validation_data=(X_test, y_test), epochs=200)"
   ]
  },
  {
   "cell_type": "code",
   "execution_count": 133,
   "metadata": {},
   "outputs": [],
   "source": [
    "# hist = model2.fit(X_test, y_test, epochs=200, verbose=0)"
   ]
  },
  {
   "cell_type": "code",
   "execution_count": 134,
   "metadata": {},
   "outputs": [
    {
     "name": "stdout",
     "output_type": "stream",
     "text": [
      "loss\n",
      "accuracy\n",
      "val_loss\n",
      "val_accuracy\n"
     ]
    }
   ],
   "source": [
    "for key, value in history.history.items():\n",
    "    print(key)"
   ]
  },
  {
   "cell_type": "code",
   "execution_count": 135,
   "metadata": {},
   "outputs": [
    {
     "data": {
      "image/png": "[encoded data removed]",
      "text/plain": [
       "<Figure size 1440x504 with 1 Axes>"
      ]
     },
     "metadata": {
      "needs_background": "light"
     },
     "output_type": "display_data"
    }
   ],
   "source": [
    "plt.figure(figsize=(20, 7))\n",
    "plt.plot(history.history['loss'], c=\"green\", label=\"train\")\n",
    "plt.plot(history.history['val_loss'], c=\"blue\", label=\"test\")\n",
    "plt.xlabel(\"Epoch index\")\n",
    "plt.ylabel(\"Loss value\")\n",
    "plt.legend()\n",
    "plt.show()"
   ]
  },
  {
   "cell_type": "markdown",
   "metadata": {
    "id": "7-sFR028YPGG"
   },
   "source": [
    "### Evaluating the trained model [10]"
   ]
  },
  {
   "cell_type": "markdown",
   "metadata": {},
   "source": [
    "Now make predictions on the test set with the trained model. **Remember that the model predictions can take any value between 0 and 1 because of the `sigmoid` activation. Therefore, you need to choose a threshold (say, 0.5) to make a yes/no decision for every sample.**"
   ]
  },
  {
   "cell_type": "code",
   "execution_count": 136,
   "metadata": {
    "colab": {
     "base_uri": "https://localhost:8080/"
    },
    "id": "74CY09RvYPGH",
    "outputId": "b3706ea4-260a-4095-c21b-d149bfc7273d"
   },
   "outputs": [],
   "source": [
    "y_pred = model2.predict(X_test)\n",
    "y_pred = (y_pred > 0.5).astype(int)"
   ]
  },
  {
   "cell_type": "markdown",
   "metadata": {},
   "source": [
    "In this binary classification problem, we can also print out the model's performance report using the `classification_report` function."
   ]
  },
  {
   "cell_type": "code",
   "execution_count": 137,
   "metadata": {
    "colab": {
     "base_uri": "https://localhost:8080/"
    },
    "id": "icSX2Zz0Znwd",
    "outputId": "e6567270-5242-4eee-db65-d945f7f4f922"
   },
   "outputs": [
    {
     "name": "stdout",
     "output_type": "stream",
     "text": [
      "Classification report\n",
      "=========================\n",
      "              precision    recall  f1-score   support\n",
      "\n",
      "           0       0.80      0.87      0.83        99\n",
      "           1       0.72      0.60      0.65        55\n",
      "\n",
      "    accuracy                           0.77       154\n",
      "   macro avg       0.76      0.73      0.74       154\n",
      "weighted avg       0.77      0.77      0.77       154\n",
      "\n",
      "\n"
     ]
    }
   ],
   "source": [
    "print(\"Classification report\")\n",
    "print(\"=========================\")\n",
    "acc = classification_report(y_test, y_pred)\n",
    "print(classification_report(y_test, y_pred))\n",
    "print()"
   ]
  },
  {
   "cell_type": "code",
   "execution_count": 138,
   "metadata": {},
   "outputs": [
    {
     "data": {
      "image/png": "[encoded data removed]",
      "text/plain": [
       "<Figure size 432x288 with 2 Axes>"
      ]
     },
     "metadata": {
      "needs_background": "light"
     },
     "output_type": "display_data"
    }
   ],
   "source": [
    "from sklearn.metrics import confusion_matrix\n",
    "import seaborn as sns\n",
    "\n",
    "cm = confusion_matrix(y_test, y_pred)\n",
    "sns.heatmap(cm, annot=True, fmt=\"d\", cmap=\"Blues\")\n",
    "\n",
    "plt.title(\"Confusion matrix\")\n",
    "plt.xlabel(\"Predicted\")\n",
    "plt.ylabel(\"True\")\n",
    "plt.show()"
   ]
  },
  {
   "cell_type": "markdown",
   "metadata": {},
   "source": [
    "We can also plot the `accuracy` over time during training."
   ]
  },
  {
   "cell_type": "code",
   "execution_count": 139,
   "metadata": {},
   "outputs": [
    {
     "data": {
      "image/png": "[encoded data removed]",
      "text/plain": [
       "<Figure size 1440x504 with 1 Axes>"
      ]
     },
     "metadata": {
      "needs_background": "light"
     },
     "output_type": "display_data"
    }
   ],
   "source": [
    "plt.figure(figsize=(20, 7))\n",
    "plt.plot(history.history['accuracy'], c=\"green\", label=\"train\")\n",
    "plt.plot(history.history['val_accuracy'], c=\"blue\", label=\"test\")\n",
    "plt.xlabel(\"Epoch index\")\n",
    "plt.ylabel(\"Accuracy\")\n",
    "plt.legend()\n",
    "plt.show()"
   ]
  },
  {
   "cell_type": "markdown",
   "metadata": {},
   "source": [
    "**[Exercise] What do you notice? Is our model effective at predicting diabetes? Why/why not?**\n",
    "\n",
    "**Your answer:** \n",
    "- I would say that the model is not effective at predicting diabetes. Based on the confustion matrix, the false positive rate is high, so it the model lacks classification power for detecting diabetes. The false negative must be low because it is indicative of not diagnosing diabetes in patients, which is critical in clinical application."
   ]
  },
  {
   "cell_type": "markdown",
   "metadata": {},
   "source": [
    "### Plot the coefficients of the logistic regression model using a bar plot [5]"
   ]
  },
  {
   "cell_type": "code",
   "execution_count": 140,
   "metadata": {},
   "outputs": [],
   "source": [
    "coefficients = model2.layers[0].get_weights()[0]"
   ]
  },
  {
   "cell_type": "code",
   "execution_count": 141,
   "metadata": {},
   "outputs": [
    {
     "data": {
      "image/png": "[encoded data removed]",
      "text/plain": [
       "<Figure size 1440x504 with 1 Axes>"
      ]
     },
     "metadata": {
      "needs_background": "light"
     },
     "output_type": "display_data"
    }
   ],
   "source": [
    "plt.figure(figsize=(20, 7))\n",
    "plt.bar(X_train.columns, coefficients.flatten())\n",
    "plt.title(\"Coefficients of the logistic regression model\")\n",
    "plt.xlabel(\"Features\")\n",
    "plt.ylabel(\"Coefficients\")\n",
    "plt.show()"
   ]
  },
  {
   "cell_type": "markdown",
   "metadata": {},
   "source": [
    "### Questions [15 points]"
   ]
  },
  {
   "cell_type": "markdown",
   "metadata": {},
   "source": [
    "**Q: Can you interpret what each of the 9 fitted classification model parameters are telling us? [5]**\n",
    "\n",
    "Answer: The classification model parameters are telling us that Diabetes Pedigree, Pregnancies, and BloodPressure are the highest factors classified in diabetes patients. The other 6 parameters of glucose, Age, skin thickness, insulin, and BMI have low coefficients in the model as they don't have much influence in the classification of diabetes\n",
    "\n",
    "**Q: Can you list the tunable parameters in the model building pipeline that we've used in this MP? [5]**\n",
    "\n",
    "Answer: The tunable parameters are learning rate of the optimizer, the optimizer itself, the number of layers for the model, and the activation function.\n",
    "\n",
    "**Q: These tunable parameters are called \"hyperparameters\" in machine learning. Can you describe an approach to identify the optimal hyperparameters? [5]**\n",
    "\n",
    "Answer: There are many approaches to identify optimal hyperparameters. An initial approach is to identify the dimensionality of the data and the number of features, this would influence the depth of the model or the model itself. A typical approach to optimize learning rate is to train the model at differing values and use the model with the lowest. Hyperparameters can be further tuned by gauging trends in loss through training and validation.\n",
    "\n",
    "- Setting appropriate loss function\n",
    "\n",
    "- Smoothing out the learning rate (back propagation)\n",
    "    - setting learning consntant\n",
    "    - adjustable learning rate with scheduler\n",
    "    \n",
    "- Optimizing distribution of weights\n",
    "    - Normalization (Batch)\n",
    "    - Dropout\n",
    "    - Actual model itself"
   ]
  }
 ],
 "metadata": {
  "colab": {
   "name": "MP_tf_linear_regression.ipynb",
   "provenance": []
  },
  "kernelspec": {
   "display_name": "Python [conda env:BIOE-488-v2]",
   "language": "python",
   "name": "conda-env-BIOE-488-v2-py"
  },
  "language_info": {
   "codemirror_mode": {
    "name": "ipython",
    "version": 3
   },
   "file_extension": ".py",
   "mimetype": "text/x-python",
   "name": "python",
   "nbconvert_exporter": "python",
   "pygments_lexer": "ipython3",
   "version": "3.9.12"
  },
  "vscode": {
   "interpreter": {
    "hash": "353902f3f2f769574ee6d5e609f500cb3c8385ac61494244183cc0b6ad3e28b3"
   }
  }
 },
 "nbformat": 4,
 "nbformat_minor": 4
}
