{
 "cells": [
  {
   "cell_type": "markdown",
   "metadata": {},
   "source": [
    "# Vectorization in Python"
   ]
  },
  {
   "cell_type": "code",
   "execution_count": 1,
   "metadata": {},
   "outputs": [],
   "source": [
    "import numpy as np\n",
    "from timeit import Timer"
   ]
  },
  {
   "cell_type": "code",
   "execution_count": 2,
   "metadata": {},
   "outputs": [
    {
     "name": "stdout",
     "output_type": "stream",
     "text": [
      "[107, 3, 33, 133, 113, 73, 199, 73, 181, 27]\n"
     ]
    }
   ],
   "source": [
    "my_list = [53, 1, 16, 66, 56, 36, 99, 36, 90, 13]\n",
    "\n",
    "result = []\n",
    "for number in my_list:\n",
    "    result.append(number * 2 + 1)\n",
    "\n",
    "\n",
    "print(result)"
   ]
  },
  {
   "cell_type": "markdown",
   "metadata": {},
   "source": [
    "Above is the simpliest way to multiply every number in a list by 2 and then plus 1: the for loop. At this point, you should be very familiar with the for loop. You can use it to iterate over items in a list or to count to a specific number. The abstraction of a for loop is iteration: applying the same computation repeatedly with some variable values."
   ]
  },
  {
   "cell_type": "code",
   "execution_count": 3,
   "metadata": {},
   "outputs": [
    {
     "name": "stdout",
     "output_type": "stream",
     "text": [
      "0.0\n",
      "1.5\n",
      "1.0\n",
      "4.5\n",
      "5.0\n",
      "5.5\n",
      "6.0\n",
      "6.5\n",
      "7.0\n",
      "7.5\n"
     ]
    }
   ],
   "source": [
    "for i in range(10):\n",
    "\n",
    "    my_number = 3 % (i + 1) + i / 2\n",
    "    print(my_number)"
   ]
  },
  {
   "cell_type": "markdown",
   "metadata": {},
   "source": [
    "While it is simple to understand, iteration might not be the most efficient model for repeating computation in some cases. Iteration is serialized: the CPU processes the iterations one after the other. In some cases where the calculation of an item depends on the result of calculation of previous items, the wait is necessary. However, in other cases, like the one in the first cell, the computation in each iteration is independent."
   ]
  },
  {
   "cell_type": "markdown",
   "metadata": {},
   "source": [
    "## Vectorization"
   ]
  },
  {
   "cell_type": "markdown",
   "metadata": {},
   "source": [
    "Vectorization is the abstraction of applying the same instructions to multiple data entries. Because applying the same instruction on multiple data entries is such a common pattern, modern computers are highly optimized for this operation from low-level hardware (CPU architecture and memory) to high-level programming language (e.g. Python, Numpy). When writing a for loop, we are restricting the potential of these optimizations by forcing these repeated computations to be performed one by one, serialized in time.\n",
    "\n",
    "![Vectorization](./resources/vectorization.png)\n",
    "\n",
    "\n",
    "In compiled language like C, the compiler can often detect the unnecessary serialization and compile a for loop into vectorized machine code. Python, however, is a dynamically interpreted language, and such compiler optimizations are unfeasible."
   ]
  },
  {
   "cell_type": "markdown",
   "metadata": {},
   "source": [
    "Numpy arrays are optimized for vectorized calculations: let's see the performance difference in action:"
   ]
  },
  {
   "cell_type": "markdown",
   "metadata": {},
   "source": [
    "## Example - Adding a constant value to every element of array"
   ]
  },
  {
   "cell_type": "code",
   "execution_count": 6,
   "metadata": {},
   "outputs": [
    {
     "name": "stdout",
     "output_type": "stream",
     "text": [
      "Computation time is 0.316398045 using for-loop\n",
      "Computation time is 0.000706227 using vectorization\n"
     ]
    }
   ],
   "source": [
    "import numpy as np\n",
    " \n",
    "# Creating a large array of size 10**6\n",
    "array = np.random.randint(1000, size=10**6)\n",
    " \n",
    "# method that adds elements using for loop\n",
    "def add_forloop():\n",
    "    new_array = [element + 1 for element in array]\n",
    "\n",
    "# method that adds elements using vectorization\n",
    "def add_vectorized():\n",
    "    new_array = array + 1\n",
    "    \n",
    "# Finding execution time using timeit\n",
    "computation_time_forloop = Timer(add_forloop).timeit(1)\n",
    "computation_time_vectorized = Timer(add_vectorized).timeit(1)\n",
    " \n",
    "print(\"Computation time is %0.9f using for-loop\" % computation_time_forloop)\n",
    "print(\"Computation time is %0.9f using vectorization\" % computation_time_vectorized)"
   ]
  },
  {
   "cell_type": "markdown",
   "metadata": {},
   "source": [
    "## Example - Computing a dot product of two vectors"
   ]
  },
  {
   "cell_type": "code",
   "execution_count": 7,
   "metadata": {},
   "outputs": [
    {
     "name": "stdout",
     "output_type": "stream",
     "text": [
      "Finding dot product takes 0.052461013 units using for loop\n",
      "Finding dot product takes 0.000090627 units using vectorization\n"
     ]
    }
   ],
   "source": [
    "import numpy as np\n",
    "from timeit import Timer\n",
    "\n",
    "# Create 2 vectors of same length\n",
    "length = 100000\n",
    "vector1 = np.random.randint(1000, size=length)\n",
    "vector2 = np.random.randint(1000, size=length)\n",
    "\n",
    "# Finds dot product of vectors using for loop\n",
    "def dotproduct_forloop(vector1, vector2, length):\n",
    "    dot = 0.0\n",
    "    for i in range(length):\n",
    "        dot += vector1[i] * vector2[i]\n",
    "    return dot\n",
    "        \n",
    "# Finds dot product of vectors using numpy vectorization\n",
    "def dotproduct_vectorize(vector1, vector2):\n",
    "    dot = np.dot(vector1, vector2)\n",
    "    return dot\n",
    "\n",
    "# Finding execution time using timeit - lambda needed for wrapping function\n",
    "# https://stackoverflow.com/questions/54135771/timeit-valueerror-stmt-is-neither-a-string-nor-callable\n",
    "time_forloop = Timer(lambda: dotproduct_forloop(vector1, vector2, length)).timeit(1)\n",
    "time_vectorize = Timer(lambda: dotproduct_vectorize(vector1, vector2)).timeit(1)\n",
    "\n",
    "print(\"Finding dot product takes %0.9f units using for loop\" % time_forloop)\n",
    "print(\"Finding dot product takes %0.9f units using vectorization\" % time_vectorize)"
   ]
  },
  {
   "cell_type": "markdown",
   "metadata": {},
   "source": [
    "## Exercise: Compute matrix multiplication"
   ]
  },
  {
   "cell_type": "code",
   "execution_count": 18,
   "metadata": {},
   "outputs": [
    {
     "name": "stdout",
     "output_type": "stream",
     "text": [
      "vectorized result [10.81994943 13.09087427 13.28849131 11.550471   12.88346917 10.99210207\n",
      " 15.25002995 13.83446563 11.44676556  9.84855326 16.29869727 13.60173938\n",
      " 10.48849111 13.46463879 12.20116113 12.29011789 12.82444705 14.47932006\n",
      " 14.75065828 11.94768796 13.64930969 11.00256349 11.83196185 12.63783396\n",
      " 13.3352612   9.68964075 13.61566355 12.55615047 13.9797612  12.50123373\n",
      " 14.43553393 13.6233058  13.64953387 11.04324044 12.6568047  15.19460165\n",
      " 11.81450982 13.29917693 10.75951075 13.01355334 10.44806695 10.18374684\n",
      " 13.65681951  9.91227222 12.1298882  12.61055798 12.22752986 11.76190842\n",
      " 14.94340249 12.27026349]\n",
      "vectorized result [10.81994943 13.09087427 13.28849131 11.550471   12.88346917 10.99210207\n",
      " 15.25002995 13.83446563 11.44676556  9.84855326 16.29869727 13.60173938\n",
      " 10.48849111 13.46463879 12.20116113 12.29011789 12.82444705 14.47932006\n",
      " 14.75065828 11.94768796 13.64930969 11.00256349 11.83196185 12.63783396\n",
      " 13.3352612   9.68964075 13.61566355 12.55615047 13.9797612  12.50123373\n",
      " 14.43553393 13.6233058  13.64953387 11.04324044 12.6568047  15.19460165\n",
      " 11.81450982 13.29917693 10.75951075 13.01355334 10.44806695 10.18374684\n",
      " 13.65681951  9.91227222 12.1298882  12.61055798 12.22752986 11.76190842\n",
      " 14.94340249 12.27026349]\n",
      "Matrix multiplication takes 0.021988781 units using for loop\n",
      "Matrix multiplication takes 0.001130580 units using vectorization\n"
     ]
    }
   ],
   "source": [
    "A = np.random.rand(50,50)\n",
    "B = np.random.rand(50,50)\n",
    "\n",
    "# sanity check code using identity matrix\n",
    "# A = np.eye(50)\n",
    "# B = np.eye(50)\n",
    "\n",
    "length = 50\n",
    "\n",
    "# hint: dot products written above are useful!\n",
    "def matrixmultiply_forloop(A, B):\n",
    "    C = np.zeros((50,50))\n",
    "    for row in range(50):\n",
    "        for col in range(50):\n",
    "            C[row, col] = dotproduct_vectorize(A[row, :], B[:,col])\n",
    "    print(\"vectorized result\", np.diag(C))\n",
    "    return C\n",
    "\n",
    "def matrixmultiply_vectorize(A, B):\n",
    "    A = np.array(A)\n",
    "    B = np.array(B)\n",
    "    C = np.matmul(A,B)\n",
    "    print(\"vectorized result\", np.diag(C))\n",
    "    return C\n",
    "\n",
    "# Finding execution time using timeit\n",
    "time_forloop = Timer(lambda: matrixmultiply_forloop(A, B)).timeit(1)\n",
    "time_vectorize = Timer(lambda: matrixmultiply_vectorize(A, B)).timeit(1)\n",
    "\n",
    "print(\"Matrix multiplication takes %0.9f units using for loop\" % time_forloop)\n",
    "print(\"Matrix multiplication takes %0.9f units using vectorization\" % time_vectorize)"
   ]
  },
  {
   "cell_type": "markdown",
   "metadata": {},
   "source": [
    "## Example - Count the number of elements less than K in the array"
   ]
  },
  {
   "cell_type": "code",
   "execution_count": 25,
   "metadata": {
    "tags": []
   },
   "outputs": [
    {
     "name": "stdout",
     "output_type": "stream",
     "text": [
      "for loop result 10\n",
      "vectorized result 10\n",
      "Finding < k takes 0.000194947 units using for loop\n",
      "Finding < k takes 0.000091530 units using vectorization\n"
     ]
    }
   ],
   "source": [
    "# trying changing the scale of X to make the difference due to vectorization more apparent\n",
    "X = np.arange(20)\n",
    "# X = np.arange(2000)\n",
    "# X = np.arange(200000)\n",
    "\n",
    "def lessthank_forloop(k=10):\n",
    "    count = 0\n",
    "    for i in range(len(X)):\n",
    "        if X[i] < k:\n",
    "            count = count + 1\n",
    "    print(\"for loop result\", count)\n",
    "    return count\n",
    "\n",
    "def lessthank_vectorize(k=10):\n",
    "    num_lessthan_k = np.count_nonzero((X < k))\n",
    "    print(\"vectorized result\", num_lessthan_k)\n",
    "    return num_lessthan_k\n",
    "\n",
    "# Finding execution time using timeit\n",
    "time_forloop = Timer(lessthank_forloop).timeit(1)\n",
    "time_vectorize = Timer(lessthank_vectorize).timeit(1)\n",
    "\n",
    "print(\"Finding < k takes %0.9f units using for loop\" % time_forloop)\n",
    "print(\"Finding < k takes %0.9f units using vectorization\" % time_vectorize)"
   ]
  },
  {
   "cell_type": "markdown",
   "metadata": {},
   "source": [
    "# How do we vectorize a function if the computation we want is more complicated and not already available in numpy? Use Numba @vectorize decorators!"
   ]
  },
  {
   "cell_type": "markdown",
   "metadata": {},
   "source": [
    "## But first: What are python \"decorators\"?"
   ]
  },
  {
   "cell_type": "markdown",
   "metadata": {},
   "source": [
    "A decorator is a function that takes another function and extends the behavior of the latter function without explicitly modifying it."
   ]
  },
  {
   "cell_type": "markdown",
   "metadata": {},
   "source": [
    "Example - smart_divide() decorator function checks whether the inputs to divide() are safe or not"
   ]
  },
  {
   "cell_type": "markdown",
   "metadata": {},
   "source": [
    "![Decorator example](./resources/decorator_example.jpg)"
   ]
  },
  {
   "cell_type": "markdown",
   "metadata": {},
   "source": [
    "Source: https://www.programiz.com/python-programming/decorator"
   ]
  },
  {
   "cell_type": "markdown",
   "metadata": {},
   "source": [
    "We need the inner(a,b) function inside smart_divide() since decorators must output a callable rather than a value. The idea of a decorator is to return a function you can call as needed, with enhanced functionality."
   ]
  },
  {
   "cell_type": "markdown",
   "metadata": {},
   "source": [
    "## Exercise: Decorator that times the execution of a function"
   ]
  },
  {
   "cell_type": "code",
   "execution_count": 26,
   "metadata": {},
   "outputs": [
    {
     "name": "stdout",
     "output_type": "stream",
     "text": [
      "0.39337135599635076\n"
     ]
    }
   ],
   "source": [
    "import time\n",
    "\n",
    "def timer(func):\n",
    "    def wrapper_timer():\n",
    "        time_elap = Timer(func).timeit(1);\n",
    "        print(time_elap)\n",
    "    return wrapper_timer\n",
    "\n",
    "@timer\n",
    "def waste_some_time():\n",
    "    for _ in range(100):\n",
    "        sum([i**2 for i in range(10000)])\n",
    "        \n",
    "waste_some_time()"
   ]
  },
  {
   "cell_type": "markdown",
   "metadata": {},
   "source": [
    "## Numba @vectorize decorator - specify the element-wise operation and let Numba handle the vectorization\n",
    "\n",
    "Read [this numba @vectorize decorator tutorial](https://numba.readthedocs.io/en/stable/user/vectorize.html)"
   ]
  },
  {
   "cell_type": "markdown",
   "metadata": {},
   "source": [
    "### In essence: ...Using vectorize(), you write your function as operating over input scalars, rather than arrays. Numba will generate the surrounding loop (or kernel) allowing efficient iteration over the actual inputs...."
   ]
  },
  {
   "cell_type": "markdown",
   "metadata": {},
   "source": [
    "Let's say the computation our imaginary problem at hand needs is as follows:"
   ]
  },
  {
   "cell_type": "code",
   "execution_count": 27,
   "metadata": {},
   "outputs": [
    {
     "name": "stdout",
     "output_type": "stream",
     "text": [
      "Custom computation takes 0.000028788 units using numba @vectorize\n"
     ]
    }
   ],
   "source": [
    "from numba import vectorize, float32, float64\n",
    "\n",
    "@vectorize([float32(float32, float32),\n",
    "            float64(float64, float64)])\n",
    "def f(x, y):\n",
    "    if x < 10:\n",
    "        return 2*np.log(y)\n",
    "    else:\n",
    "        return np.sqrt(1 + x*10)\n",
    "\n",
    "A = np.random.rand(30)\n",
    "B = np.random.rand(30)\n",
    "\n",
    "time_vectorize = Timer(lambda: f(A, B)).timeit(1)\n",
    "print(\"Custom computation takes %0.9f units using numba @vectorize\" % time_vectorize)"
   ]
  },
  {
   "cell_type": "code",
   "execution_count": 28,
   "metadata": {},
   "outputs": [
    {
     "data": {
      "text/plain": [
       "['ff->f', 'dd->d']"
      ]
     },
     "execution_count": 28,
     "metadata": {},
     "output_type": "execute_result"
    }
   ],
   "source": [
    "f.types"
   ]
  },
  {
   "cell_type": "markdown",
   "metadata": {},
   "source": [
    "## There are certain benefits that numba @vectorize decorated functions enjoy automatically ..."
   ]
  },
  {
   "cell_type": "markdown",
   "metadata": {},
   "source": [
    ".reduce() - applies user-defined f() along an array axis which reduces array dimension by 1. More info - https://numpy.org/doc/stable/reference/generated/numpy.ufunc.reduce.html#numpy.ufunc.reduce\n",
    "\n",
    ".accumulate() - accumulates results of f() along an array axis. More info - https://numpy.org/doc/stable/reference/generated/numpy.ufunc.accumulate.html#numpy.ufunc.accumulate\n",
    "\n",
    "Additional benefits - https://numpy.org/doc/stable/reference/ufuncs.html#ufunc"
   ]
  },
  {
   "cell_type": "code",
   "execution_count": 29,
   "metadata": {},
   "outputs": [
    {
     "name": "stdout",
     "output_type": "stream",
     "text": [
      "[[ 0  1  2  3]\n",
      " [ 4  5  6  7]\n",
      " [ 8  9 10 11]] (3, 4) \n",
      "-----\n",
      "[[12 15 18 21]] (1, 4) \n",
      "-----\n",
      "[[ 6]\n",
      " [22]\n",
      " [38]] (3, 1) \n",
      "-----\n",
      "[[ 0  1  2  3]\n",
      " [ 4  6  8 10]\n",
      " [12 15 18 21]] (3, 4) \n",
      "-----\n",
      "[[ 0  1  3  6]\n",
      " [ 4  9 15 22]\n",
      " [ 8 17 27 38]] (3, 4) \n",
      "-----\n"
     ]
    }
   ],
   "source": [
    "from numba import vectorize, float64, int32, int64, float32\n",
    "\n",
    "@vectorize([int32(int32, int32),\n",
    "            int64(int64, int64),\n",
    "            float32(float32, float32),\n",
    "            float64(float64, float64)])\n",
    "def f(x, y):\n",
    "    return x + y\n",
    "\n",
    "\n",
    "A = np.arange(12).reshape(3, 4)\n",
    "print(A, A.shape, \"\\n-----\")\n",
    "\n",
    "a = f.reduce(A, axis=0, keepdims=True)\n",
    "print(a, a.shape, \"\\n-----\")\n",
    "\n",
    "b = f.reduce(A, axis=1, keepdims=True)\n",
    "print(b, b.shape, \"\\n-----\")\n",
    "\n",
    "c = f.accumulate(A) # axis=0 by default\n",
    "print(c, c.shape, \"\\n-----\")\n",
    "\n",
    "d = f.accumulate(A, axis=1)\n",
    "print(d, d.shape, \"\\n-----\")"
   ]
  },
  {
   "cell_type": "code",
   "execution_count": 30,
   "metadata": {},
   "outputs": [
    {
     "data": {
      "text/plain": [
       "['ii->i', 'll->l', 'ff->f', 'dd->d']"
      ]
     },
     "execution_count": 30,
     "metadata": {},
     "output_type": "execute_result"
    }
   ],
   "source": [
    "f.types"
   ]
  },
  {
   "cell_type": "code",
   "execution_count": null,
   "metadata": {},
   "outputs": [],
   "source": []
  }
 ],
 "metadata": {
  "kernelspec": {
   "display_name": "Python [conda env:BIOE-488]",
   "language": "python",
   "name": "conda-env-BIOE-488-py"
  },
  "language_info": {
   "codemirror_mode": {
    "name": "ipython",
    "version": 3
   },
   "file_extension": ".py",
   "mimetype": "text/x-python",
   "name": "python",
   "nbconvert_exporter": "python",
   "pygments_lexer": "ipython3",
   "version": "3.9.12"
  },
  "vscode": {
   "interpreter": {
    "hash": "353902f3f2f769574ee6d5e609f500cb3c8385ac61494244183cc0b6ad3e28b3"
   }
  }
 },
 "nbformat": 4,
 "nbformat_minor": 4
}
